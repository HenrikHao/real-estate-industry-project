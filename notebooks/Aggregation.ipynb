{
 "cells": [
  {
   "cell_type": "code",
   "execution_count": 51,
   "metadata": {},
   "outputs": [],
   "source": [
    "import pandas as pd\n",
    "import json"
   ]
  },
  {
   "cell_type": "code",
   "execution_count": 52,
   "metadata": {},
   "outputs": [],
   "source": [
    "import geopandas as gpd\n",
    "from shapely.geometry import Point\n",
    "\n",
    "# Your property data\n",
    "property_metadata = pd.read_csv(\"../data/raw/properties.csv\")\n",
    "\n",
    "# Convert the coordinates column to a suitable format (assuming it's a string like '[lat, lon]')\n",
    "property_metadata['coordinates'] = property_metadata['coordinates'].apply(eval)\n",
    "\n",
    "# Create points and names from the property_metadata\n",
    "coords = [Point(xy[1], xy[0]) for xy in property_metadata['coordinates']]\n",
    "names = property_metadata['name'].tolist()\n",
    "\n",
    "# Convert to GeoDataFrame\n",
    "property = gpd.GeoDataFrame({'name': names, 'geometry': coords})\n"
   ]
  },
  {
   "cell_type": "code",
   "execution_count": 53,
   "metadata": {},
   "outputs": [
    {
     "name": "stderr",
     "output_type": "stream",
     "text": [
      "/home/jqqian1/.local/lib/python3.10/site-packages/IPython/core/interactiveshell.py:3448: FutureWarning: The `op` parameter is deprecated and will be removed in a future release. Please use the `predicate` parameter instead.\n",
      "  if await self.run_code(code, result, async_=asy):\n",
      "/tmp/ipykernel_9036/2101387466.py:5: UserWarning: CRS mismatch between the CRS of left geometries and the CRS of right geometries.\n",
      "Use `to_crs()` to reproject one of the input geometries to match the CRS of the other.\n",
      "\n",
      "Left CRS: None\n",
      "Right CRS: EPSG:4326\n",
      "\n",
      "  property_SA2 = gpd.sjoin(property, victoria_gdf, how=\"inner\", op=\"within\")\n"
     ]
    }
   ],
   "source": [
    "# Assuming property_gdf and victoria_gdf are already defined as per your provided code...\n",
    "victoria_gdf = gpd.read_file('../data/Statistical_area_level2/victoria.geojson')\n",
    "\n",
    "# Perform a spatial join\n",
    "property_SA2 = gpd.sjoin(property, victoria_gdf, how=\"inner\", op=\"within\")"
   ]
  },
  {
   "cell_type": "code",
   "execution_count": 54,
   "metadata": {},
   "outputs": [],
   "source": [
    "station = gpd.read_file('../data/external_SA2/Station.geojson')"
   ]
  },
  {
   "cell_type": "code",
   "execution_count": 55,
   "metadata": {},
   "outputs": [
    {
     "name": "stderr",
     "output_type": "stream",
     "text": [
      "/home/jqqian1/.local/lib/python3.10/site-packages/IPython/core/interactiveshell.py:3448: FutureWarning: The `op` parameter is deprecated and will be removed in a future release. Please use the `predicate` parameter instead.\n",
      "  if await self.run_code(code, result, async_=asy):\n"
     ]
    }
   ],
   "source": [
    "station_SA2 = gpd.sjoin(station, victoria_gdf, how=\"inner\", op=\"within\")"
   ]
  },
  {
   "cell_type": "code",
   "execution_count": 56,
   "metadata": {},
   "outputs": [],
   "source": [
    "property_agg = pd.merge(property_SA2, station_SA2, on='SA2_CODE21', how='left')"
   ]
  },
  {
   "cell_type": "code",
   "execution_count": 57,
   "metadata": {},
   "outputs": [],
   "source": [
    "merged = property_agg[['SA2_CODE21','geometry_x', 'geometry_y']]"
   ]
  },
  {
   "cell_type": "code",
   "execution_count": 58,
   "metadata": {},
   "outputs": [
    {
     "name": "stderr",
     "output_type": "stream",
     "text": [
      "/tmp/ipykernel_9036/2385872553.py:1: SettingWithCopyWarning: \n",
      "A value is trying to be set on a copy of a slice from a DataFrame\n",
      "\n",
      "See the caveats in the documentation: https://pandas.pydata.org/pandas-docs/stable/user_guide/indexing.html#returning-a-view-versus-a-copy\n",
      "  merged.rename(columns={'geometry_x': 'property_geometry', 'geometry_y': 'station_geometry'}, inplace=True)\n"
     ]
    }
   ],
   "source": [
    "merged.rename(columns={'geometry_x': 'property_geometry', 'geometry_y': 'station_geometry'}, inplace=True)"
   ]
  },
  {
   "cell_type": "code",
   "execution_count": 59,
   "metadata": {},
   "outputs": [],
   "source": [
    "park = gpd.read_file('../data/external_SA2/Park.geojson')"
   ]
  },
  {
   "cell_type": "code",
   "execution_count": 60,
   "metadata": {},
   "outputs": [
    {
     "name": "stderr",
     "output_type": "stream",
     "text": [
      "/home/jqqian1/.local/lib/python3.10/site-packages/IPython/core/interactiveshell.py:3448: FutureWarning: The `op` parameter is deprecated and will be removed in a future release. Please use the `predicate` parameter instead.\n",
      "  if await self.run_code(code, result, async_=asy):\n"
     ]
    }
   ],
   "source": [
    "park_SA2 = gpd.sjoin(park, victoria_gdf, how=\"inner\", op=\"within\")"
   ]
  },
  {
   "cell_type": "code",
   "execution_count": 61,
   "metadata": {},
   "outputs": [],
   "source": [
    "property_agg1 = pd.merge(merged, park_SA2, on='SA2_CODE21', how='left')"
   ]
  },
  {
   "cell_type": "code",
   "execution_count": 62,
   "metadata": {},
   "outputs": [
    {
     "name": "stderr",
     "output_type": "stream",
     "text": [
      "/tmp/ipykernel_9036/2976054265.py:2: SettingWithCopyWarning: \n",
      "A value is trying to be set on a copy of a slice from a DataFrame\n",
      "\n",
      "See the caveats in the documentation: https://pandas.pydata.org/pandas-docs/stable/user_guide/indexing.html#returning-a-view-versus-a-copy\n",
      "  merged.rename(columns={'geometry': 'park_geometry'}, inplace=True)\n"
     ]
    }
   ],
   "source": [
    "merged = property_agg1[['SA2_CODE21','property_geometry', 'station_geometry', 'geometry']]\n",
    "merged.rename(columns={'geometry': 'park_geometry'}, inplace=True)"
   ]
  },
  {
   "cell_type": "code",
   "execution_count": 63,
   "metadata": {},
   "outputs": [],
   "source": [
    "shop = gpd.read_file('../data/external_SA2/Mall, Shopping Centre & Department Store.geojson')"
   ]
  },
  {
   "cell_type": "code",
   "execution_count": 64,
   "metadata": {},
   "outputs": [
    {
     "name": "stderr",
     "output_type": "stream",
     "text": [
      "/home/jqqian1/.local/lib/python3.10/site-packages/IPython/core/interactiveshell.py:3448: FutureWarning: The `op` parameter is deprecated and will be removed in a future release. Please use the `predicate` parameter instead.\n",
      "  if await self.run_code(code, result, async_=asy):\n"
     ]
    }
   ],
   "source": [
    "shop_SA2 = gpd.sjoin(shop, victoria_gdf, how=\"inner\", op=\"within\")"
   ]
  },
  {
   "cell_type": "code",
   "execution_count": 65,
   "metadata": {},
   "outputs": [],
   "source": [
    "property_agg2 = pd.merge(merged, shop_SA2, on='SA2_CODE21', how='left')"
   ]
  },
  {
   "cell_type": "code",
   "execution_count": 66,
   "metadata": {},
   "outputs": [
    {
     "name": "stderr",
     "output_type": "stream",
     "text": [
      "/tmp/ipykernel_9036/256104151.py:2: SettingWithCopyWarning: \n",
      "A value is trying to be set on a copy of a slice from a DataFrame\n",
      "\n",
      "See the caveats in the documentation: https://pandas.pydata.org/pandas-docs/stable/user_guide/indexing.html#returning-a-view-versus-a-copy\n",
      "  merged.rename(columns={'geometry': 'shop_geometry'}, inplace=True)\n"
     ]
    }
   ],
   "source": [
    "merged = property_agg2[['SA2_CODE21','property_geometry', 'station_geometry', 'park_geometry', 'geometry']]\n",
    "merged.rename(columns={'geometry': 'shop_geometry'}, inplace=True)"
   ]
  },
  {
   "cell_type": "code",
   "execution_count": 67,
   "metadata": {},
   "outputs": [
    {
     "data": {
      "text/html": [
       "<div>\n",
       "<style scoped>\n",
       "    .dataframe tbody tr th:only-of-type {\n",
       "        vertical-align: middle;\n",
       "    }\n",
       "\n",
       "    .dataframe tbody tr th {\n",
       "        vertical-align: top;\n",
       "    }\n",
       "\n",
       "    .dataframe thead th {\n",
       "        text-align: right;\n",
       "    }\n",
       "</style>\n",
       "<table border=\"1\" class=\"dataframe\">\n",
       "  <thead>\n",
       "    <tr style=\"text-align: right;\">\n",
       "      <th></th>\n",
       "      <th>SA2_CODE21</th>\n",
       "      <th>property_geometry</th>\n",
       "      <th>station_geometry</th>\n",
       "      <th>park_geometry</th>\n",
       "      <th>shop_geometry</th>\n",
       "    </tr>\n",
       "  </thead>\n",
       "  <tbody>\n",
       "    <tr>\n",
       "      <th>0</th>\n",
       "      <td>206041503</td>\n",
       "      <td>POINT (144.96912 -37.80951)</td>\n",
       "      <td>None</td>\n",
       "      <td>None</td>\n",
       "      <td>POINT (144.96643 -37.81279)</td>\n",
       "    </tr>\n",
       "    <tr>\n",
       "      <th>1</th>\n",
       "      <td>206041503</td>\n",
       "      <td>POINT (144.96912 -37.80951)</td>\n",
       "      <td>None</td>\n",
       "      <td>None</td>\n",
       "      <td>POINT (144.96410 -37.81202)</td>\n",
       "    </tr>\n",
       "    <tr>\n",
       "      <th>2</th>\n",
       "      <td>206041503</td>\n",
       "      <td>POINT (144.97440 -37.81475)</td>\n",
       "      <td>None</td>\n",
       "      <td>None</td>\n",
       "      <td>POINT (144.96643 -37.81279)</td>\n",
       "    </tr>\n",
       "    <tr>\n",
       "      <th>3</th>\n",
       "      <td>206041503</td>\n",
       "      <td>POINT (144.97440 -37.81475)</td>\n",
       "      <td>None</td>\n",
       "      <td>None</td>\n",
       "      <td>POINT (144.96410 -37.81202)</td>\n",
       "    </tr>\n",
       "    <tr>\n",
       "      <th>4</th>\n",
       "      <td>206041503</td>\n",
       "      <td>POINT (144.96785 -37.81540)</td>\n",
       "      <td>None</td>\n",
       "      <td>None</td>\n",
       "      <td>POINT (144.96643 -37.81279)</td>\n",
       "    </tr>\n",
       "    <tr>\n",
       "      <th>...</th>\n",
       "      <td>...</td>\n",
       "      <td>...</td>\n",
       "      <td>...</td>\n",
       "      <td>...</td>\n",
       "      <td>...</td>\n",
       "    </tr>\n",
       "    <tr>\n",
       "      <th>17280</th>\n",
       "      <td>212031555</td>\n",
       "      <td>POINT (145.37630 -38.08402)</td>\n",
       "      <td>None</td>\n",
       "      <td>None</td>\n",
       "      <td>None</td>\n",
       "    </tr>\n",
       "    <tr>\n",
       "      <th>17281</th>\n",
       "      <td>212031555</td>\n",
       "      <td>POINT (145.34483 -38.07650)</td>\n",
       "      <td>None</td>\n",
       "      <td>None</td>\n",
       "      <td>None</td>\n",
       "    </tr>\n",
       "    <tr>\n",
       "      <th>17282</th>\n",
       "      <td>212031555</td>\n",
       "      <td>POINT (145.36043 -38.08417)</td>\n",
       "      <td>None</td>\n",
       "      <td>None</td>\n",
       "      <td>None</td>\n",
       "    </tr>\n",
       "    <tr>\n",
       "      <th>17283</th>\n",
       "      <td>212031555</td>\n",
       "      <td>POINT (145.35015 -38.08134)</td>\n",
       "      <td>None</td>\n",
       "      <td>None</td>\n",
       "      <td>None</td>\n",
       "    </tr>\n",
       "    <tr>\n",
       "      <th>17284</th>\n",
       "      <td>212031555</td>\n",
       "      <td>POINT (145.34202 -38.08875)</td>\n",
       "      <td>None</td>\n",
       "      <td>None</td>\n",
       "      <td>None</td>\n",
       "    </tr>\n",
       "  </tbody>\n",
       "</table>\n",
       "<p>17285 rows × 5 columns</p>\n",
       "</div>"
      ],
      "text/plain": [
       "      SA2_CODE21            property_geometry station_geometry park_geometry  \\\n",
       "0      206041503  POINT (144.96912 -37.80951)             None          None   \n",
       "1      206041503  POINT (144.96912 -37.80951)             None          None   \n",
       "2      206041503  POINT (144.97440 -37.81475)             None          None   \n",
       "3      206041503  POINT (144.97440 -37.81475)             None          None   \n",
       "4      206041503  POINT (144.96785 -37.81540)             None          None   \n",
       "...          ...                          ...              ...           ...   \n",
       "17280  212031555  POINT (145.37630 -38.08402)             None          None   \n",
       "17281  212031555  POINT (145.34483 -38.07650)             None          None   \n",
       "17282  212031555  POINT (145.36043 -38.08417)             None          None   \n",
       "17283  212031555  POINT (145.35015 -38.08134)             None          None   \n",
       "17284  212031555  POINT (145.34202 -38.08875)             None          None   \n",
       "\n",
       "                     shop_geometry  \n",
       "0      POINT (144.96643 -37.81279)  \n",
       "1      POINT (144.96410 -37.81202)  \n",
       "2      POINT (144.96643 -37.81279)  \n",
       "3      POINT (144.96410 -37.81202)  \n",
       "4      POINT (144.96643 -37.81279)  \n",
       "...                            ...  \n",
       "17280                         None  \n",
       "17281                         None  \n",
       "17282                         None  \n",
       "17283                         None  \n",
       "17284                         None  \n",
       "\n",
       "[17285 rows x 5 columns]"
      ]
     },
     "execution_count": 67,
     "metadata": {},
     "output_type": "execute_result"
    }
   ],
   "source": [
    "merged"
   ]
  }
 ],
 "metadata": {
  "kernelspec": {
   "display_name": "Python 3",
   "language": "python",
   "name": "python3"
  },
  "language_info": {
   "codemirror_mode": {
    "name": "ipython",
    "version": 3
   },
   "file_extension": ".py",
   "mimetype": "text/x-python",
   "name": "python",
   "nbconvert_exporter": "python",
   "pygments_lexer": "ipython3",
   "version": "3.10.6"
  },
  "orig_nbformat": 4
 },
 "nbformat": 4,
 "nbformat_minor": 2
}
