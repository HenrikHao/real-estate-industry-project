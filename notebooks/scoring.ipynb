{
 "cells": [
  {
   "cell_type": "code",
   "execution_count": 29,
   "metadata": {},
   "outputs": [],
   "source": [
    "import pandas as pd\n",
    "import numpy as np"
   ]
  },
  {
   "cell_type": "code",
   "execution_count": 30,
   "metadata": {},
   "outputs": [
    {
     "name": "stdout",
     "output_type": "stream",
     "text": [
      "LGA_NAME23\n",
      "Wyndham      0.799622\n",
      "Merri-bek    0.783770\n",
      "Casey        0.773934\n",
      "Melton       0.766841\n",
      "Darebin      0.763512\n",
      "               ...   \n",
      "Ararat       0.520954\n",
      "Swan Hill    0.512774\n",
      "Wodonga      0.512749\n",
      "Loddon       0.500329\n",
      "Mildura      0.388457\n",
      "Name: final_score, Length: 76, dtype: float64\n"
     ]
    }
   ],
   "source": [
    "past_data = pd.read_csv(\"../data/scoring/past_data.csv\")\n",
    "future_data = pd.read_csv(\"../data/scoring/future_data.csv\")\n",
    "df = pd.concat([past_data, future_data]) \n",
    "\n",
    "\n",
    "import pandas as pd\n",
    "\n",
    "# Engineer crime rate\n",
    "df['crime_rate'] = df['Offence Count'] / df['population']\n",
    "\n",
    "# Normalize metrics\n",
    "columns_to_normalize = ['Nearest_park', 'Nearest_school', 'Nearest_hospital', 'Nearest_supermarket', 'crime_rate', 'cost', 'population', 'weekly_income', 'distance_to_cbd']\n",
    "for column in columns_to_normalize:\n",
    "    df[column] = (df[column] - df[column].min()) / (df[column].max() - df[column].min())\n",
    "\n",
    "# Define weights for liveability metrics\n",
    "# Note: We're using negative weights for metrics where lower values are better.\n",
    "weights = {\n",
    "    'Nearest_park': -0.15,\n",
    "    'Nearest_school': -0.15,\n",
    "    'Nearest_hospital': -0.15,\n",
    "    'Nearest_supermarket': -0.15,\n",
    "    'distance_to_cbd': -0.15, \n",
    "    'crime_rate': -0.1,     # Negative because lower crime rate is better\n",
    "    'weekly_income': 0.1    # Assuming higher weekly income is better\n",
    "}\n",
    "\n",
    "# Calculate liveability score\n",
    "df['liveability_score'] = sum(df[col] * weight for col, weight in weights.items())\n",
    "\n",
    "# Adjust the liveability score to be in the range [0, 1]\n",
    "df['liveability_score'] = (df['liveability_score'] - df['liveability_score'].min()) / (df['liveability_score'].max() - df['liveability_score'].min())\n",
    "\n",
    "# Calculate affordability score (inverse of cost)\n",
    "df['affordability_score'] = 1 - df['cost']\n",
    "\n",
    "# Combine liveability and affordability (assuming equal importance)\n",
    "df['final_score'] = (df['liveability_score'] + df['affordability_score']) / 2\n",
    "\n",
    "# Aggregate scores by LGA district\n",
    "lga_scores = df.groupby('LGA_NAME23')['final_score'].mean()\n",
    "\n",
    "# Rank LGA districts\n",
    "lga_ranking = lga_scores.sort_values(ascending=False)\n",
    "\n",
    "print(lga_ranking)\n",
    "\n",
    "\n",
    "\n"
   ]
  }
 ],
 "metadata": {
  "kernelspec": {
   "display_name": "MAST30034",
   "language": "python",
   "name": "python3"
  },
  "language_info": {
   "codemirror_mode": {
    "name": "ipython",
    "version": 3
   },
   "file_extension": ".py",
   "mimetype": "text/x-python",
   "name": "python",
   "nbconvert_exporter": "python",
   "pygments_lexer": "ipython3",
   "version": "3.10.12"
  },
  "orig_nbformat": 4
 },
 "nbformat": 4,
 "nbformat_minor": 2
}
