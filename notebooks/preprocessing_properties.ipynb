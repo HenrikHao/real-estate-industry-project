{
 "cells": [
  {
   "cell_type": "markdown",
   "metadata": {},
   "source": [
    "# Properties data preprocessing"
   ]
  },
  {
   "cell_type": "code",
   "execution_count": 1,
   "metadata": {},
   "outputs": [
    {
     "data": {
      "text/plain": [
       "(5, 12014)"
      ]
     },
     "execution_count": 1,
     "metadata": {},
     "output_type": "execute_result"
    }
   ],
   "source": [
    "import pandas as pd\n",
    "import numpy as np\n",
    "import re\n",
    "import matplotlib.pyplot as plt\n",
    "\n",
    "# read in data\n",
    "df = pd.read_json(\"../data/landing/property.json\")\n",
    "\n",
    "# properties datashape\n",
    "df.shape"
   ]
  },
  {
   "cell_type": "code",
   "execution_count": 2,
   "metadata": {},
   "outputs": [
    {
     "data": {
      "text/html": [
       "<div>\n",
       "<style scoped>\n",
       "    .dataframe tbody tr th:only-of-type {\n",
       "        vertical-align: middle;\n",
       "    }\n",
       "\n",
       "    .dataframe tbody tr th {\n",
       "        vertical-align: top;\n",
       "    }\n",
       "\n",
       "    .dataframe thead th {\n",
       "        text-align: right;\n",
       "    }\n",
       "</style>\n",
       "<table border=\"1\" class=\"dataframe\">\n",
       "  <thead>\n",
       "    <tr style=\"text-align: right;\">\n",
       "      <th></th>\n",
       "      <th>name</th>\n",
       "      <th>cost_text</th>\n",
       "      <th>coordinates</th>\n",
       "      <th>rooms</th>\n",
       "      <th>desc</th>\n",
       "    </tr>\n",
       "  </thead>\n",
       "  <tbody>\n",
       "    <tr>\n",
       "      <th>https://www.domain.com.au/904-265-exhibition-street-melbourne-vic-3000-16637685</th>\n",
       "      <td>904/265 Exhibition Street Melbourne VIC 3000</td>\n",
       "      <td>$850 Per Week</td>\n",
       "      <td>[-37.8095116, 144.9691204]</td>\n",
       "      <td>[2 Beds, 2 Baths, 1 Parking]</td>\n",
       "      <td>Darren Krause</td>\n",
       "    </tr>\n",
       "    <tr>\n",
       "      <th>https://www.domain.com.au/210-422-collins-street-melbourne-vic-3000-16637229</th>\n",
       "      <td>210/422 Collins Street Melbourne VIC 3000</td>\n",
       "      <td>$475 Per Week</td>\n",
       "      <td>[-37.8170971, 144.9601487]</td>\n",
       "      <td>[1 Bed, 1 Bath]</td>\n",
       "      <td>Annalise Zamparo</td>\n",
       "    </tr>\n",
       "    <tr>\n",
       "      <th>https://www.domain.com.au/1902-200-spencer-street-melbourne-vic-3000-16636968</th>\n",
       "      <td>1902/200 Spencer Street Melbourne VIC 3000</td>\n",
       "      <td>$630 pw</td>\n",
       "      <td>[-37.816228, 144.9532465]</td>\n",
       "      <td>[2 Beds, 1 Bath, 1 Parking]</td>\n",
       "      <td>Paola Faba</td>\n",
       "    </tr>\n",
       "    <tr>\n",
       "      <th>https://www.domain.com.au/312b-399-bourke-street-melbourne-vic-3000-16096996</th>\n",
       "      <td>312B/399 Bourke Street Melbourne VIC 3000</td>\n",
       "      <td>$450</td>\n",
       "      <td>[-37.8147259, 144.9621291]</td>\n",
       "      <td>[1 Bed, 1 Bath]</td>\n",
       "      <td>Natalie Subotsch</td>\n",
       "    </tr>\n",
       "    <tr>\n",
       "      <th>https://www.domain.com.au/3313-228-la-trobe-street-melbourne-vic-3000-16636845</th>\n",
       "      <td>3313/228 La Trobe Street Melbourne VIC 3000</td>\n",
       "      <td>$900</td>\n",
       "      <td>[-37.8096052, 144.962371]</td>\n",
       "      <td>[2 Beds, 1 Bath, 2 Parking]</td>\n",
       "      <td>Paula Tran</td>\n",
       "    </tr>\n",
       "  </tbody>\n",
       "</table>\n",
       "</div>"
      ],
      "text/plain": [
       "                                                                                            name  \\\n",
       "https://www.domain.com.au/904-265-exhibition-st...  904/265 Exhibition Street Melbourne VIC 3000   \n",
       "https://www.domain.com.au/210-422-collins-stree...     210/422 Collins Street Melbourne VIC 3000   \n",
       "https://www.domain.com.au/1902-200-spencer-stre...    1902/200 Spencer Street Melbourne VIC 3000   \n",
       "https://www.domain.com.au/312b-399-bourke-stree...     312B/399 Bourke Street Melbourne VIC 3000   \n",
       "https://www.domain.com.au/3313-228-la-trobe-str...   3313/228 La Trobe Street Melbourne VIC 3000   \n",
       "\n",
       "                                                        cost_text  \\\n",
       "https://www.domain.com.au/904-265-exhibition-st...  $850 Per Week   \n",
       "https://www.domain.com.au/210-422-collins-stree...  $475 Per Week   \n",
       "https://www.domain.com.au/1902-200-spencer-stre...        $630 pw   \n",
       "https://www.domain.com.au/312b-399-bourke-stree...           $450   \n",
       "https://www.domain.com.au/3313-228-la-trobe-str...           $900   \n",
       "\n",
       "                                                                   coordinates  \\\n",
       "https://www.domain.com.au/904-265-exhibition-st...  [-37.8095116, 144.9691204]   \n",
       "https://www.domain.com.au/210-422-collins-stree...  [-37.8170971, 144.9601487]   \n",
       "https://www.domain.com.au/1902-200-spencer-stre...   [-37.816228, 144.9532465]   \n",
       "https://www.domain.com.au/312b-399-bourke-stree...  [-37.8147259, 144.9621291]   \n",
       "https://www.domain.com.au/3313-228-la-trobe-str...   [-37.8096052, 144.962371]   \n",
       "\n",
       "                                                                           rooms  \\\n",
       "https://www.domain.com.au/904-265-exhibition-st...  [2 Beds, 2 Baths, 1 Parking]   \n",
       "https://www.domain.com.au/210-422-collins-stree...               [1 Bed, 1 Bath]   \n",
       "https://www.domain.com.au/1902-200-spencer-stre...   [2 Beds, 1 Bath, 1 Parking]   \n",
       "https://www.domain.com.au/312b-399-bourke-stree...               [1 Bed, 1 Bath]   \n",
       "https://www.domain.com.au/3313-228-la-trobe-str...   [2 Beds, 1 Bath, 2 Parking]   \n",
       "\n",
       "                                                                desc  \n",
       "https://www.domain.com.au/904-265-exhibition-st...     Darren Krause  \n",
       "https://www.domain.com.au/210-422-collins-stree...  Annalise Zamparo  \n",
       "https://www.domain.com.au/1902-200-spencer-stre...        Paola Faba  \n",
       "https://www.domain.com.au/312b-399-bourke-stree...  Natalie Subotsch  \n",
       "https://www.domain.com.au/3313-228-la-trobe-str...        Paula Tran  "
      ]
     },
     "execution_count": 2,
     "metadata": {},
     "output_type": "execute_result"
    }
   ],
   "source": [
    "properties_df = df.transpose()\n",
    "properties_df.head()\n"
   ]
  },
  {
   "cell_type": "code",
   "execution_count": 3,
   "metadata": {},
   "outputs": [],
   "source": [
    "def extract_rooms(rooms_list):\n",
    "    \"\"\"\n",
    "    extract the nested rooms_list into beds, baths and parking\n",
    "    \"\"\"\n",
    "    beds, baths, parkings = None, None, None\n",
    "    for item in rooms_list:\n",
    "        if 'Bed' in item:\n",
    "            beds = int(item.split(' ')[0])\n",
    "        elif 'Bath' in item:\n",
    "            baths = int(item.split(' ')[0])\n",
    "        elif 'Parking' in item:\n",
    "            parkings = int(item.split(' ')[0])\n",
    "    return beds, baths, parkings"
   ]
  },
  {
   "cell_type": "code",
   "execution_count": 4,
   "metadata": {},
   "outputs": [],
   "source": [
    "# Applying the function and splitting the results\n",
    "properties_df['beds'], properties_df['baths'], properties_df['parkings'] = zip(*properties_df['rooms'].apply(lambda x: extract_rooms(x)))\n",
    "\n",
    "properties_df.drop('rooms', axis=1, inplace=True)"
   ]
  },
  {
   "cell_type": "code",
   "execution_count": 5,
   "metadata": {},
   "outputs": [
    {
     "data": {
      "text/html": [
       "<div>\n",
       "<style scoped>\n",
       "    .dataframe tbody tr th:only-of-type {\n",
       "        vertical-align: middle;\n",
       "    }\n",
       "\n",
       "    .dataframe tbody tr th {\n",
       "        vertical-align: top;\n",
       "    }\n",
       "\n",
       "    .dataframe thead th {\n",
       "        text-align: right;\n",
       "    }\n",
       "</style>\n",
       "<table border=\"1\" class=\"dataframe\">\n",
       "  <thead>\n",
       "    <tr style=\"text-align: right;\">\n",
       "      <th></th>\n",
       "      <th>name</th>\n",
       "      <th>cost_text</th>\n",
       "      <th>coordinates</th>\n",
       "      <th>desc</th>\n",
       "      <th>beds</th>\n",
       "      <th>baths</th>\n",
       "      <th>parkings</th>\n",
       "    </tr>\n",
       "  </thead>\n",
       "  <tbody>\n",
       "    <tr>\n",
       "      <th>https://www.domain.com.au/904-265-exhibition-street-melbourne-vic-3000-16637685</th>\n",
       "      <td>904/265 Exhibition Street Melbourne VIC 3000</td>\n",
       "      <td>$850 Per Week</td>\n",
       "      <td>[-37.8095116, 144.9691204]</td>\n",
       "      <td>Darren Krause</td>\n",
       "      <td>2.0</td>\n",
       "      <td>2.0</td>\n",
       "      <td>1.0</td>\n",
       "    </tr>\n",
       "    <tr>\n",
       "      <th>https://www.domain.com.au/210-422-collins-street-melbourne-vic-3000-16637229</th>\n",
       "      <td>210/422 Collins Street Melbourne VIC 3000</td>\n",
       "      <td>$475 Per Week</td>\n",
       "      <td>[-37.8170971, 144.9601487]</td>\n",
       "      <td>Annalise Zamparo</td>\n",
       "      <td>1.0</td>\n",
       "      <td>1.0</td>\n",
       "      <td>NaN</td>\n",
       "    </tr>\n",
       "    <tr>\n",
       "      <th>https://www.domain.com.au/1902-200-spencer-street-melbourne-vic-3000-16636968</th>\n",
       "      <td>1902/200 Spencer Street Melbourne VIC 3000</td>\n",
       "      <td>$630 pw</td>\n",
       "      <td>[-37.816228, 144.9532465]</td>\n",
       "      <td>Paola Faba</td>\n",
       "      <td>2.0</td>\n",
       "      <td>1.0</td>\n",
       "      <td>1.0</td>\n",
       "    </tr>\n",
       "    <tr>\n",
       "      <th>https://www.domain.com.au/312b-399-bourke-street-melbourne-vic-3000-16096996</th>\n",
       "      <td>312B/399 Bourke Street Melbourne VIC 3000</td>\n",
       "      <td>$450</td>\n",
       "      <td>[-37.8147259, 144.9621291]</td>\n",
       "      <td>Natalie Subotsch</td>\n",
       "      <td>1.0</td>\n",
       "      <td>1.0</td>\n",
       "      <td>NaN</td>\n",
       "    </tr>\n",
       "    <tr>\n",
       "      <th>https://www.domain.com.au/3313-228-la-trobe-street-melbourne-vic-3000-16636845</th>\n",
       "      <td>3313/228 La Trobe Street Melbourne VIC 3000</td>\n",
       "      <td>$900</td>\n",
       "      <td>[-37.8096052, 144.962371]</td>\n",
       "      <td>Paula Tran</td>\n",
       "      <td>2.0</td>\n",
       "      <td>1.0</td>\n",
       "      <td>2.0</td>\n",
       "    </tr>\n",
       "  </tbody>\n",
       "</table>\n",
       "</div>"
      ],
      "text/plain": [
       "                                                                                            name  \\\n",
       "https://www.domain.com.au/904-265-exhibition-st...  904/265 Exhibition Street Melbourne VIC 3000   \n",
       "https://www.domain.com.au/210-422-collins-stree...     210/422 Collins Street Melbourne VIC 3000   \n",
       "https://www.domain.com.au/1902-200-spencer-stre...    1902/200 Spencer Street Melbourne VIC 3000   \n",
       "https://www.domain.com.au/312b-399-bourke-stree...     312B/399 Bourke Street Melbourne VIC 3000   \n",
       "https://www.domain.com.au/3313-228-la-trobe-str...   3313/228 La Trobe Street Melbourne VIC 3000   \n",
       "\n",
       "                                                        cost_text  \\\n",
       "https://www.domain.com.au/904-265-exhibition-st...  $850 Per Week   \n",
       "https://www.domain.com.au/210-422-collins-stree...  $475 Per Week   \n",
       "https://www.domain.com.au/1902-200-spencer-stre...        $630 pw   \n",
       "https://www.domain.com.au/312b-399-bourke-stree...           $450   \n",
       "https://www.domain.com.au/3313-228-la-trobe-str...           $900   \n",
       "\n",
       "                                                                   coordinates  \\\n",
       "https://www.domain.com.au/904-265-exhibition-st...  [-37.8095116, 144.9691204]   \n",
       "https://www.domain.com.au/210-422-collins-stree...  [-37.8170971, 144.9601487]   \n",
       "https://www.domain.com.au/1902-200-spencer-stre...   [-37.816228, 144.9532465]   \n",
       "https://www.domain.com.au/312b-399-bourke-stree...  [-37.8147259, 144.9621291]   \n",
       "https://www.domain.com.au/3313-228-la-trobe-str...   [-37.8096052, 144.962371]   \n",
       "\n",
       "                                                                desc  beds  \\\n",
       "https://www.domain.com.au/904-265-exhibition-st...     Darren Krause   2.0   \n",
       "https://www.domain.com.au/210-422-collins-stree...  Annalise Zamparo   1.0   \n",
       "https://www.domain.com.au/1902-200-spencer-stre...        Paola Faba   2.0   \n",
       "https://www.domain.com.au/312b-399-bourke-stree...  Natalie Subotsch   1.0   \n",
       "https://www.domain.com.au/3313-228-la-trobe-str...        Paula Tran   2.0   \n",
       "\n",
       "                                                    baths  parkings  \n",
       "https://www.domain.com.au/904-265-exhibition-st...    2.0       1.0  \n",
       "https://www.domain.com.au/210-422-collins-stree...    1.0       NaN  \n",
       "https://www.domain.com.au/1902-200-spencer-stre...    1.0       1.0  \n",
       "https://www.domain.com.au/312b-399-bourke-stree...    1.0       NaN  \n",
       "https://www.domain.com.au/3313-228-la-trobe-str...    1.0       2.0  "
      ]
     },
     "execution_count": 5,
     "metadata": {},
     "output_type": "execute_result"
    }
   ],
   "source": [
    "properties_df.head()"
   ]
  },
  {
   "cell_type": "code",
   "execution_count": 6,
   "metadata": {},
   "outputs": [],
   "source": [
    "def convert_to_weekly(price_text):\n",
    "    \"\"\" \n",
    "    Converting price to weekly rent\n",
    "    \"\"\"\n",
    "    try:\n",
    "        # Identifying common text for different frequencies\n",
    "        week = [\"pw\", \"PW\", \"week\", \"/w\", \" pw\"]\n",
    "        month = [\"pcm\", \"PCM\", \"pm\", \"PM\", \"mth\", \"month\", \"per month\"]\n",
    "        annual = [\"p.a\", \"pa\", \"annually\"]\n",
    "        \n",
    "        # Check for range indications\n",
    "        if \" to \" in price_text:\n",
    "            return np.nan\n",
    "\n",
    "        # Extract the first numerical value for the price, correctly handling commas and decimals\n",
    "        price = float(re.search(r'(\\d+\\.\\d+|\\.\\d+|\\d+)', price_text.replace(',', '')).group(1))\n",
    "\n",
    "        \n",
    "        # Check for frequency and convert to weekly\n",
    "        if any(ext in price_text.lower() for ext in week):\n",
    "            return price\n",
    "        elif any(ext in price_text.lower() for ext in month):\n",
    "            return price / 4.33\n",
    "        elif any(ext in price_text.lower() for ext in annual):\n",
    "            return price / 52\n",
    "        else:\n",
    "            return price  # default to weekly if no specific frequency is mentioned\n",
    "    except:\n",
    "        return np.nan\n",
    "\n",
    "# Apply the function to the cost_text column\n",
    "properties_df['weekly_rent'] = properties_df['cost_text'].apply(convert_to_weekly)\n",
    "\n",
    "# Create invalid df with rows that have NaN in weekly_rent\n",
    "invalid_df = properties_df[properties_df['weekly_rent'].isna()]\n",
    "\n",
    "# Drop these rows from the main dataframe\n",
    "properties_df = properties_df.dropna(subset=['weekly_rent'])"
   ]
  },
  {
   "cell_type": "code",
   "execution_count": 8,
   "metadata": {},
   "outputs": [],
   "source": [
    "# remove outliers and invalid records\n",
    "filtered_df = properties_df[(properties_df['beds'] > 0) & (properties_df['baths'] > 0) & (properties_df['weekly_rent'] < 10000)]"
   ]
  },
  {
   "cell_type": "code",
   "execution_count": 11,
   "metadata": {},
   "outputs": [],
   "source": [
    "# Drop duplicate rows based on the 'name' column\n",
    "filtered_df = filtered_df.drop_duplicates(subset='name', keep='first')\n",
    "\n",
    "# Fill NaN values in the 'parkings' column with 0\n",
    "filtered_df['parkings'] = filtered_df['parkings'].fillna(0)\n"
   ]
  },
  {
   "cell_type": "code",
   "execution_count": 12,
   "metadata": {},
   "outputs": [
    {
     "data": {
      "text/plain": [
       "(11541, 8)"
      ]
     },
     "execution_count": 12,
     "metadata": {},
     "output_type": "execute_result"
    }
   ],
   "source": [
    "filtered_df.shape"
   ]
  },
  {
   "cell_type": "code",
   "execution_count": 13,
   "metadata": {},
   "outputs": [],
   "source": [
    "filtered_df.to_csv(\"../data/raw/properties.csv\")"
   ]
  }
 ],
 "metadata": {
  "kernelspec": {
   "display_name": "MAST30034",
   "language": "python",
   "name": "python3"
  },
  "language_info": {
   "codemirror_mode": {
    "name": "ipython",
    "version": 3
   },
   "file_extension": ".py",
   "mimetype": "text/x-python",
   "name": "python",
   "nbconvert_exporter": "python",
   "pygments_lexer": "ipython3",
   "version": "3.10.12"
  },
  "orig_nbformat": 4
 },
 "nbformat": 4,
 "nbformat_minor": 2
}
