{
 "cells": [
  {
   "cell_type": "code",
   "execution_count": 6,
   "metadata": {},
   "outputs": [],
   "source": [
    "import pandas as pd\n",
    "import json\n",
    "import geopandas as gpd\n",
    "from shapely.geometry import Point\n",
    "import requests\n",
    "from collections import defaultdict"
   ]
  },
  {
   "cell_type": "code",
   "execution_count": 7,
   "metadata": {},
   "outputs": [],
   "source": [
    "# read into shape file\n",
    "sa2_sf = gpd.read_file(\"../data/statistical_area_level2/SA2_2021_AUST_GDA2020.shp\")\n",
    "sa2_sf['geometry'] = sa2_sf['geometry'].to_crs(\"+proj=longlat +ellps=WGS84 +datum=WGS84 +no_defs\")\n",
    "victoria_sa2 = sa2_sf[sa2_sf['STE_NAME21'] == 'Victoria']"
   ]
  },
  {
   "cell_type": "code",
   "execution_count": 8,
   "metadata": {},
   "outputs": [],
   "source": [
    "lga_sf = gpd.read_file(\"../data/LGA_2021_AUST_GDA2020_SHP/LGA_2021_AUST_GDA2020.shp\")\n",
    "lga_sf['geometry'] = lga_sf['geometry'].to_crs(\"+proj=longlat +ellps=WGS84 +datum=WGS84 +no_defs\")\n",
    "victoria_lga = lga_sf[lga_sf['STE_NAME21'] == 'Victoria']"
   ]
  },
  {
   "cell_type": "code",
   "execution_count": 9,
   "metadata": {},
   "outputs": [
    {
     "name": "stderr",
     "output_type": "stream",
     "text": [
      "/var/folders/hl/0j63l0bd7n3ggf_3ylf9n8q80000gn/T/ipykernel_31429/145930727.py:13: UserWarning: Geometry is in a geographic CRS. Results from 'area' are likely incorrect. Use 'GeoSeries.to_crs()' to re-project geometries to a projected CRS before this operation.\n",
      "\n",
      "  areas = intersections.area\n"
     ]
    },
    {
     "name": "stdout",
     "output_type": "stream",
     "text": [
      "Warning: Missing geometry for SA2_CODE21: 297979799\n",
      "Warning: Missing geometry for SA2_CODE21: 299999499\n"
     ]
    }
   ],
   "source": [
    "mapping = []\n",
    "victoria_lga = victoria_lga.reset_index(drop=True)\n",
    "victoria_sa2 = victoria_sa2.reset_index(drop=True)\n",
    "\n",
    "# b. Iterate over each sa2 district:\n",
    "for index, sa2_row in victoria_sa2.iterrows():\n",
    "    # Check if the geometry is not None\n",
    "    if sa2_row['geometry'] is not None:\n",
    "        # Find the intersection area between the current sa2 district and all lga districts\n",
    "        intersections = victoria_lga.intersection(sa2_row['geometry'])\n",
    "        \n",
    "        # Calculate the area of each intersection\n",
    "        areas = intersections.area\n",
    "        \n",
    "        # Find the index of the lga district with the maximum intersection area\n",
    "        max_area_index = areas.idxmax()\n",
    "        \n",
    "        # Check if max_area_index is not NaN and the maximum intersection area is greater than zero\n",
    "        if pd.notna(max_area_index) and areas[max_area_index] > 0:\n",
    "            # Append the mapping to the list\n",
    "            mapping.append({\n",
    "                'SA2_CODE21': sa2_row['SA2_CODE21'],\n",
    "                'SA2_NAME21': sa2_row['SA2_NAME21'],  # Extracting the sa2 name\n",
    "                'LGA_CODE21': victoria_lga.iloc[max_area_index]['LGA_CODE21'],\n",
    "                'LGA_NAME21': victoria_lga.iloc[max_area_index]['LGA_NAME21']  # Extracting the lga name\n",
    "            })\n",
    "        else:\n",
    "            # Handle the case where there's no valid intersection (e.g., log a warning or skip)\n",
    "            print(f\"Warning: No valid intersection found for SA2_CODE21: {sa2_row['SA2_CODE21']}\")\n",
    "    else:\n",
    "        print(f\"Warning: Missing geometry for SA2_CODE21: {sa2_row['SA2_CODE21']}\")\n",
    "\n",
    "# 3. Convert the Mapping List to a DataFrame\n",
    "mapping_df = pd.DataFrame(mapping)\n",
    "\n"
   ]
  },
  {
   "cell_type": "code",
   "execution_count": 10,
   "metadata": {},
   "outputs": [],
   "source": [
    "mapping_df.to_csv(\"../data/sa2_to_lga.csv\")"
   ]
  }
 ],
 "metadata": {
  "kernelspec": {
   "display_name": "MAST30034",
   "language": "python",
   "name": "python3"
  },
  "language_info": {
   "codemirror_mode": {
    "name": "ipython",
    "version": 3
   },
   "file_extension": ".py",
   "mimetype": "text/x-python",
   "name": "python",
   "nbconvert_exporter": "python",
   "pygments_lexer": "ipython3",
   "version": "3.10.12"
  },
  "orig_nbformat": 4
 },
 "nbformat": 4,
 "nbformat_minor": 2
}
