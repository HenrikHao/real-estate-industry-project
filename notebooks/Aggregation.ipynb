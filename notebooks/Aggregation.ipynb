{
 "cells": [
  {
   "cell_type": "code",
   "execution_count": 58,
   "metadata": {},
   "outputs": [],
   "source": [
    "import pandas as pd\n",
    "import json\n",
    "import geopandas as gpd\n",
    "from shapely.geometry import Point"
   ]
  },
  {
   "cell_type": "code",
   "execution_count": 59,
   "metadata": {},
   "outputs": [],
   "source": [
    "# Your property data\n",
    "property_metadata = pd.read_csv(\"../data/raw/properties.csv\")\n",
    "\n",
    "# Convert the coordinates column to a suitable format (assuming it's a string like '[lat, lon]')\n",
    "property_metadata['coordinates'] = property_metadata['coordinates'].apply(eval)\n",
    "\n",
    "# Create points and names from the property_metadata\n",
    "coords = [Point(xy[1], xy[0]) for xy in property_metadata['coordinates']]\n",
    "names = property_metadata['name'].tolist()\n",
    "\n",
    "# Convert to GeoDataFrame\n",
    "property = gpd.GeoDataFrame({'name': names, 'geometry': coords})\n"
   ]
  },
  {
   "cell_type": "code",
   "execution_count": 60,
   "metadata": {},
   "outputs": [
    {
     "name": "stderr",
     "output_type": "stream",
     "text": [
      "/Users/henrik_hao/opt/anaconda3/envs/MAST30034/lib/python3.10/site-packages/IPython/core/interactiveshell.py:3448: FutureWarning: The `op` parameter is deprecated and will be removed in a future release. Please use the `predicate` parameter instead.\n",
      "  if await self.run_code(code, result, async_=asy):\n",
      "/var/folders/hl/0j63l0bd7n3ggf_3ylf9n8q80000gn/T/ipykernel_81663/2101387466.py:5: UserWarning: CRS mismatch between the CRS of left geometries and the CRS of right geometries.\n",
      "Use `to_crs()` to reproject one of the input geometries to match the CRS of the other.\n",
      "\n",
      "Left CRS: None\n",
      "Right CRS: EPSG:4326\n",
      "\n",
      "  property_SA2 = gpd.sjoin(property, victoria_gdf, how=\"inner\", op=\"within\")\n"
     ]
    }
   ],
   "source": [
    "# Assuming property_gdf and victoria_gdf are already defined as per your provided code...\n",
    "victoria_gdf = gpd.read_file('../data/Statistical_area_level2/victoria.geojson')\n",
    "\n",
    "# Perform a spatial join\n",
    "property_SA2 = gpd.sjoin(property, victoria_gdf, how=\"inner\", op=\"within\")"
   ]
  },
  {
   "cell_type": "code",
   "execution_count": 62,
   "metadata": {},
   "outputs": [],
   "source": [
    "PTV_metro = gpd.read_file('../data/external_SA2/PTV/PTV_metro/PTV_METRO_TRAIN_STATION.shp')\n",
    "PTV_regional = gpd.read_file(\"../data/external_SA2/PTV/PTV_regional/PTV_REGIONAL_TRAIN_STATION.shp\")"
   ]
  },
  {
   "cell_type": "code",
   "execution_count": 63,
   "metadata": {},
   "outputs": [
    {
     "name": "stderr",
     "output_type": "stream",
     "text": [
      "/var/folders/hl/0j63l0bd7n3ggf_3ylf9n8q80000gn/T/ipykernel_81663/1496773614.py:1: FutureWarning: The frame.append method is deprecated and will be removed from pandas in a future version. Use pandas.concat instead.\n",
      "  PTV_station = PTV_metro.append(PTV_regional, ignore_index=True)\n"
     ]
    }
   ],
   "source": [
    "PTV_station = PTV_metro.append(PTV_regional, ignore_index=True)"
   ]
  },
  {
   "cell_type": "code",
   "execution_count": 66,
   "metadata": {},
   "outputs": [
    {
     "name": "stderr",
     "output_type": "stream",
     "text": [
      "/Users/henrik_hao/opt/anaconda3/envs/MAST30034/lib/python3.10/site-packages/IPython/core/interactiveshell.py:3448: FutureWarning: The `op` parameter is deprecated and will be removed in a future release. Please use the `predicate` parameter instead.\n",
      "  if await self.run_code(code, result, async_=asy):\n",
      "/var/folders/hl/0j63l0bd7n3ggf_3ylf9n8q80000gn/T/ipykernel_81663/2576761343.py:1: UserWarning: CRS mismatch between the CRS of left geometries and the CRS of right geometries.\n",
      "Use `to_crs()` to reproject one of the input geometries to match the CRS of the other.\n",
      "\n",
      "Left CRS: EPSG:7844\n",
      "Right CRS: EPSG:4326\n",
      "\n",
      "  station_SA2 = gpd.sjoin(PTV_station, victoria_gdf, how=\"inner\", op=\"within\")\n"
     ]
    }
   ],
   "source": [
    "station_SA2 = gpd.sjoin(PTV_station, victoria_gdf, how=\"inner\", op=\"within\")"
   ]
  },
  {
   "cell_type": "code",
   "execution_count": 70,
   "metadata": {},
   "outputs": [],
   "source": [
    "station_SA2 = station_SA2.drop_duplicates(subset='STOP_NAME', keep='first')"
   ]
  },
  {
   "cell_type": "code",
   "execution_count": 71,
   "metadata": {},
   "outputs": [
    {
     "data": {
      "text/html": [
       "<div>\n",
       "<style scoped>\n",
       "    .dataframe tbody tr th:only-of-type {\n",
       "        vertical-align: middle;\n",
       "    }\n",
       "\n",
       "    .dataframe tbody tr th {\n",
       "        vertical-align: top;\n",
       "    }\n",
       "\n",
       "    .dataframe thead th {\n",
       "        text-align: right;\n",
       "    }\n",
       "</style>\n",
       "<table border=\"1\" class=\"dataframe\">\n",
       "  <thead>\n",
       "    <tr style=\"text-align: right;\">\n",
       "      <th></th>\n",
       "      <th>STOP_ID</th>\n",
       "      <th>STOP_NAME</th>\n",
       "      <th>LATITUDE</th>\n",
       "      <th>LONGITUDE</th>\n",
       "      <th>TICKETZONE</th>\n",
       "      <th>ROUTEUSSP</th>\n",
       "      <th>geometry</th>\n",
       "      <th>index_right</th>\n",
       "      <th>SA2_CODE21</th>\n",
       "      <th>SA2_NAME21</th>\n",
       "      <th>...</th>\n",
       "      <th>SA4_CODE21</th>\n",
       "      <th>SA4_NAME21</th>\n",
       "      <th>GCC_CODE21</th>\n",
       "      <th>GCC_NAME21</th>\n",
       "      <th>STE_CODE21</th>\n",
       "      <th>STE_NAME21</th>\n",
       "      <th>AUS_CODE21</th>\n",
       "      <th>AUS_NAME21</th>\n",
       "      <th>AREASQKM21</th>\n",
       "      <th>LOCI_URI21</th>\n",
       "    </tr>\n",
       "  </thead>\n",
       "  <tbody>\n",
       "    <tr>\n",
       "      <th>0</th>\n",
       "      <td>19970</td>\n",
       "      <td>Royal Park Railway Station (Parkville)</td>\n",
       "      <td>-37.781193</td>\n",
       "      <td>144.952301</td>\n",
       "      <td>1</td>\n",
       "      <td>Upfield</td>\n",
       "      <td>POINT (144.95231 -37.78118)</td>\n",
       "      <td>132</td>\n",
       "      <td>206041124</td>\n",
       "      <td>Parkville</td>\n",
       "      <td>...</td>\n",
       "      <td>206</td>\n",
       "      <td>Melbourne - Inner</td>\n",
       "      <td>2GMEL</td>\n",
       "      <td>Greater Melbourne</td>\n",
       "      <td>2</td>\n",
       "      <td>Victoria</td>\n",
       "      <td>AUS</td>\n",
       "      <td>Australia</td>\n",
       "      <td>4.0491</td>\n",
       "      <td>http://linked.data.gov.au/dataset/asgsed3/SA2/...</td>\n",
       "    </tr>\n",
       "    <tr>\n",
       "      <th>1</th>\n",
       "      <td>19971</td>\n",
       "      <td>Flemington Bridge Railway Station (North Melbo...</td>\n",
       "      <td>-37.788140</td>\n",
       "      <td>144.939323</td>\n",
       "      <td>1</td>\n",
       "      <td>Upfield</td>\n",
       "      <td>POINT (144.93933 -37.78813)</td>\n",
       "      <td>138</td>\n",
       "      <td>206041506</td>\n",
       "      <td>North Melbourne</td>\n",
       "      <td>...</td>\n",
       "      <td>206</td>\n",
       "      <td>Melbourne - Inner</td>\n",
       "      <td>2GMEL</td>\n",
       "      <td>Greater Melbourne</td>\n",
       "      <td>2</td>\n",
       "      <td>Victoria</td>\n",
       "      <td>AUS</td>\n",
       "      <td>Australia</td>\n",
       "      <td>2.4248</td>\n",
       "      <td>http://linked.data.gov.au/dataset/asgsed3/SA2/...</td>\n",
       "    </tr>\n",
       "    <tr>\n",
       "      <th>2</th>\n",
       "      <td>19972</td>\n",
       "      <td>Macaulay Railway Station (North Melbourne)</td>\n",
       "      <td>-37.794267</td>\n",
       "      <td>144.936166</td>\n",
       "      <td>1</td>\n",
       "      <td>Upfield</td>\n",
       "      <td>POINT (144.93617 -37.79425)</td>\n",
       "      <td>138</td>\n",
       "      <td>206041506</td>\n",
       "      <td>North Melbourne</td>\n",
       "      <td>...</td>\n",
       "      <td>206</td>\n",
       "      <td>Melbourne - Inner</td>\n",
       "      <td>2GMEL</td>\n",
       "      <td>Greater Melbourne</td>\n",
       "      <td>2</td>\n",
       "      <td>Victoria</td>\n",
       "      <td>AUS</td>\n",
       "      <td>Australia</td>\n",
       "      <td>2.4248</td>\n",
       "      <td>http://linked.data.gov.au/dataset/asgsed3/SA2/...</td>\n",
       "    </tr>\n",
       "    <tr>\n",
       "      <th>3</th>\n",
       "      <td>19973</td>\n",
       "      <td>North Melbourne Railway Station (West Melbourne)</td>\n",
       "      <td>-37.807419</td>\n",
       "      <td>144.942570</td>\n",
       "      <td>1</td>\n",
       "      <td>Flemington,Sunbury,Upfield,Werribee,Williamsto...</td>\n",
       "      <td>POINT (144.94258 -37.80741)</td>\n",
       "      <td>134</td>\n",
       "      <td>206041127</td>\n",
       "      <td>West Melbourne - Industrial</td>\n",
       "      <td>...</td>\n",
       "      <td>206</td>\n",
       "      <td>Melbourne - Inner</td>\n",
       "      <td>2GMEL</td>\n",
       "      <td>Greater Melbourne</td>\n",
       "      <td>2</td>\n",
       "      <td>Victoria</td>\n",
       "      <td>AUS</td>\n",
       "      <td>Australia</td>\n",
       "      <td>6.1992</td>\n",
       "      <td>http://linked.data.gov.au/dataset/asgsed3/SA2/...</td>\n",
       "    </tr>\n",
       "    <tr>\n",
       "      <th>4</th>\n",
       "      <td>19974</td>\n",
       "      <td>Clifton Hill Railway Station (Clifton Hill)</td>\n",
       "      <td>-37.788657</td>\n",
       "      <td>144.995417</td>\n",
       "      <td>1</td>\n",
       "      <td>Mernda,Hurstbridge</td>\n",
       "      <td>POINT (144.99542 -37.78864)</td>\n",
       "      <td>161</td>\n",
       "      <td>206071145</td>\n",
       "      <td>Clifton Hill - Alphington</td>\n",
       "      <td>...</td>\n",
       "      <td>206</td>\n",
       "      <td>Melbourne - Inner</td>\n",
       "      <td>2GMEL</td>\n",
       "      <td>Greater Melbourne</td>\n",
       "      <td>2</td>\n",
       "      <td>Victoria</td>\n",
       "      <td>AUS</td>\n",
       "      <td>Australia</td>\n",
       "      <td>5.2089</td>\n",
       "      <td>http://linked.data.gov.au/dataset/asgsed3/SA2/...</td>\n",
       "    </tr>\n",
       "  </tbody>\n",
       "</table>\n",
       "<p>5 rows × 24 columns</p>\n",
       "</div>"
      ],
      "text/plain": [
       "  STOP_ID                                          STOP_NAME   LATITUDE  \\\n",
       "0   19970             Royal Park Railway Station (Parkville) -37.781193   \n",
       "1   19971  Flemington Bridge Railway Station (North Melbo... -37.788140   \n",
       "2   19972         Macaulay Railway Station (North Melbourne) -37.794267   \n",
       "3   19973   North Melbourne Railway Station (West Melbourne) -37.807419   \n",
       "4   19974        Clifton Hill Railway Station (Clifton Hill) -37.788657   \n",
       "\n",
       "    LONGITUDE TICKETZONE                                          ROUTEUSSP  \\\n",
       "0  144.952301          1                                            Upfield   \n",
       "1  144.939323          1                                            Upfield   \n",
       "2  144.936166          1                                            Upfield   \n",
       "3  144.942570          1  Flemington,Sunbury,Upfield,Werribee,Williamsto...   \n",
       "4  144.995417          1                                 Mernda,Hurstbridge   \n",
       "\n",
       "                      geometry  index_right SA2_CODE21  \\\n",
       "0  POINT (144.95231 -37.78118)          132  206041124   \n",
       "1  POINT (144.93933 -37.78813)          138  206041506   \n",
       "2  POINT (144.93617 -37.79425)          138  206041506   \n",
       "3  POINT (144.94258 -37.80741)          134  206041127   \n",
       "4  POINT (144.99542 -37.78864)          161  206071145   \n",
       "\n",
       "                    SA2_NAME21  ... SA4_CODE21         SA4_NAME21 GCC_CODE21  \\\n",
       "0                    Parkville  ...        206  Melbourne - Inner      2GMEL   \n",
       "1              North Melbourne  ...        206  Melbourne - Inner      2GMEL   \n",
       "2              North Melbourne  ...        206  Melbourne - Inner      2GMEL   \n",
       "3  West Melbourne - Industrial  ...        206  Melbourne - Inner      2GMEL   \n",
       "4    Clifton Hill - Alphington  ...        206  Melbourne - Inner      2GMEL   \n",
       "\n",
       "          GCC_NAME21 STE_CODE21 STE_NAME21 AUS_CODE21 AUS_NAME21 AREASQKM21  \\\n",
       "0  Greater Melbourne          2   Victoria        AUS  Australia     4.0491   \n",
       "1  Greater Melbourne          2   Victoria        AUS  Australia     2.4248   \n",
       "2  Greater Melbourne          2   Victoria        AUS  Australia     2.4248   \n",
       "3  Greater Melbourne          2   Victoria        AUS  Australia     6.1992   \n",
       "4  Greater Melbourne          2   Victoria        AUS  Australia     5.2089   \n",
       "\n",
       "                                          LOCI_URI21  \n",
       "0  http://linked.data.gov.au/dataset/asgsed3/SA2/...  \n",
       "1  http://linked.data.gov.au/dataset/asgsed3/SA2/...  \n",
       "2  http://linked.data.gov.au/dataset/asgsed3/SA2/...  \n",
       "3  http://linked.data.gov.au/dataset/asgsed3/SA2/...  \n",
       "4  http://linked.data.gov.au/dataset/asgsed3/SA2/...  \n",
       "\n",
       "[5 rows x 24 columns]"
      ]
     },
     "execution_count": 71,
     "metadata": {},
     "output_type": "execute_result"
    }
   ],
   "source": [
    "station_SA2.head()"
   ]
  },
  {
   "cell_type": "code",
   "execution_count": 78,
   "metadata": {},
   "outputs": [],
   "source": [
    "filtered = station_SA2[station_SA2['SA2_NAME21'] =='Melbourne CBD - East']"
   ]
  },
  {
   "cell_type": "code",
   "execution_count": 79,
   "metadata": {},
   "outputs": [
    {
     "data": {
      "text/html": [
       "<div>\n",
       "<style scoped>\n",
       "    .dataframe tbody tr th:only-of-type {\n",
       "        vertical-align: middle;\n",
       "    }\n",
       "\n",
       "    .dataframe tbody tr th {\n",
       "        vertical-align: top;\n",
       "    }\n",
       "\n",
       "    .dataframe thead th {\n",
       "        text-align: right;\n",
       "    }\n",
       "</style>\n",
       "<table border=\"1\" class=\"dataframe\">\n",
       "  <thead>\n",
       "    <tr style=\"text-align: right;\">\n",
       "      <th></th>\n",
       "      <th>STOP_ID</th>\n",
       "      <th>STOP_NAME</th>\n",
       "      <th>LATITUDE</th>\n",
       "      <th>LONGITUDE</th>\n",
       "      <th>TICKETZONE</th>\n",
       "      <th>ROUTEUSSP</th>\n",
       "      <th>geometry</th>\n",
       "      <th>index_right</th>\n",
       "      <th>SA2_CODE21</th>\n",
       "      <th>SA2_NAME21</th>\n",
       "      <th>...</th>\n",
       "      <th>SA4_CODE21</th>\n",
       "      <th>SA4_NAME21</th>\n",
       "      <th>GCC_CODE21</th>\n",
       "      <th>GCC_NAME21</th>\n",
       "      <th>STE_CODE21</th>\n",
       "      <th>STE_NAME21</th>\n",
       "      <th>AUS_CODE21</th>\n",
       "      <th>AUS_NAME21</th>\n",
       "      <th>AREASQKM21</th>\n",
       "      <th>LOCI_URI21</th>\n",
       "    </tr>\n",
       "  </thead>\n",
       "  <tbody>\n",
       "  </tbody>\n",
       "</table>\n",
       "<p>0 rows × 24 columns</p>\n",
       "</div>"
      ],
      "text/plain": [
       "Empty GeoDataFrame\n",
       "Columns: [STOP_ID, STOP_NAME, LATITUDE, LONGITUDE, TICKETZONE, ROUTEUSSP, geometry, index_right, SA2_CODE21, SA2_NAME21, CHG_FLAG21, CHG_LBL21, SA3_CODE21, SA3_NAME21, SA4_CODE21, SA4_NAME21, GCC_CODE21, GCC_NAME21, STE_CODE21, STE_NAME21, AUS_CODE21, AUS_NAME21, AREASQKM21, LOCI_URI21]\n",
       "Index: []\n",
       "\n",
       "[0 rows x 24 columns]"
      ]
     },
     "execution_count": 79,
     "metadata": {},
     "output_type": "execute_result"
    }
   ],
   "source": [
    "filtered"
   ]
  },
  {
   "cell_type": "code",
   "execution_count": 74,
   "metadata": {},
   "outputs": [],
   "source": [
    "property_agg = pd.merge(property_SA2, station_SA2, on='SA2_CODE21', how='left')"
   ]
  },
  {
   "cell_type": "code",
   "execution_count": 75,
   "metadata": {},
   "outputs": [
    {
     "data": {
      "text/plain": [
       "array(['name', 'geometry_x', 'index_right_x', 'SA2_CODE21',\n",
       "       'SA2_NAME21_x', 'CHG_FLAG21_x', 'CHG_LBL21_x', 'SA3_CODE21_x',\n",
       "       'SA3_NAME21_x', 'SA4_CODE21_x', 'SA4_NAME21_x', 'GCC_CODE21_x',\n",
       "       'GCC_NAME21_x', 'STE_CODE21_x', 'STE_NAME21_x', 'AUS_CODE21_x',\n",
       "       'AUS_NAME21_x', 'AREASQKM21_x', 'LOCI_URI21_x', 'STOP_ID',\n",
       "       'STOP_NAME', 'LATITUDE', 'LONGITUDE', 'TICKETZONE', 'ROUTEUSSP',\n",
       "       'geometry_y', 'index_right_y', 'SA2_NAME21_y', 'CHG_FLAG21_y',\n",
       "       'CHG_LBL21_y', 'SA3_CODE21_y', 'SA3_NAME21_y', 'SA4_CODE21_y',\n",
       "       'SA4_NAME21_y', 'GCC_CODE21_y', 'GCC_NAME21_y', 'STE_CODE21_y',\n",
       "       'STE_NAME21_y', 'AUS_CODE21_y', 'AUS_NAME21_y', 'AREASQKM21_y',\n",
       "       'LOCI_URI21_y'], dtype=object)"
      ]
     },
     "execution_count": 75,
     "metadata": {},
     "output_type": "execute_result"
    }
   ],
   "source": [
    "property_agg.columns.values"
   ]
  },
  {
   "cell_type": "code",
   "execution_count": 76,
   "metadata": {},
   "outputs": [],
   "source": [
    "merged = property_agg[['name', 'SA2_CODE21', 'SA2_NAME21_x', 'geometry_x', 'geometry_y']]"
   ]
  },
  {
   "cell_type": "code",
   "execution_count": 77,
   "metadata": {},
   "outputs": [
    {
     "data": {
      "text/html": [
       "<div>\n",
       "<style scoped>\n",
       "    .dataframe tbody tr th:only-of-type {\n",
       "        vertical-align: middle;\n",
       "    }\n",
       "\n",
       "    .dataframe tbody tr th {\n",
       "        vertical-align: top;\n",
       "    }\n",
       "\n",
       "    .dataframe thead th {\n",
       "        text-align: right;\n",
       "    }\n",
       "</style>\n",
       "<table border=\"1\" class=\"dataframe\">\n",
       "  <thead>\n",
       "    <tr style=\"text-align: right;\">\n",
       "      <th></th>\n",
       "      <th>name</th>\n",
       "      <th>SA2_CODE21</th>\n",
       "      <th>SA2_NAME21_x</th>\n",
       "      <th>geometry_x</th>\n",
       "      <th>geometry_y</th>\n",
       "    </tr>\n",
       "  </thead>\n",
       "  <tbody>\n",
       "    <tr>\n",
       "      <th>0</th>\n",
       "      <td>904/265 Exhibition Street Melbourne VIC 3000</td>\n",
       "      <td>206041503</td>\n",
       "      <td>Melbourne CBD - East</td>\n",
       "      <td>POINT (144.96912 -37.80951)</td>\n",
       "      <td>None</td>\n",
       "    </tr>\n",
       "    <tr>\n",
       "      <th>1</th>\n",
       "      <td>2302/17 Spring Street Melbourne VIC 3000</td>\n",
       "      <td>206041503</td>\n",
       "      <td>Melbourne CBD - East</td>\n",
       "      <td>POINT (144.97440 -37.81475)</td>\n",
       "      <td>None</td>\n",
       "    </tr>\n",
       "    <tr>\n",
       "      <th>2</th>\n",
       "      <td>11/187 Collins Street Melbourne VIC 3000</td>\n",
       "      <td>206041503</td>\n",
       "      <td>Melbourne CBD - East</td>\n",
       "      <td>POINT (144.96785 -37.81540)</td>\n",
       "      <td>None</td>\n",
       "    </tr>\n",
       "    <tr>\n",
       "      <th>3</th>\n",
       "      <td>1605/68 La Trobe Street Melbourne VIC 3000</td>\n",
       "      <td>206041503</td>\n",
       "      <td>Melbourne CBD - East</td>\n",
       "      <td>POINT (144.96679 -37.80836)</td>\n",
       "      <td>None</td>\n",
       "    </tr>\n",
       "    <tr>\n",
       "      <th>4</th>\n",
       "      <td>3007/35 Spring Street Melbourne VIC 3000</td>\n",
       "      <td>206041503</td>\n",
       "      <td>Melbourne CBD - East</td>\n",
       "      <td>POINT (144.97400 -37.81417)</td>\n",
       "      <td>None</td>\n",
       "    </tr>\n",
       "  </tbody>\n",
       "</table>\n",
       "</div>"
      ],
      "text/plain": [
       "                                           name SA2_CODE21  \\\n",
       "0  904/265 Exhibition Street Melbourne VIC 3000  206041503   \n",
       "1      2302/17 Spring Street Melbourne VIC 3000  206041503   \n",
       "2      11/187 Collins Street Melbourne VIC 3000  206041503   \n",
       "3    1605/68 La Trobe Street Melbourne VIC 3000  206041503   \n",
       "4      3007/35 Spring Street Melbourne VIC 3000  206041503   \n",
       "\n",
       "           SA2_NAME21_x                   geometry_x geometry_y  \n",
       "0  Melbourne CBD - East  POINT (144.96912 -37.80951)       None  \n",
       "1  Melbourne CBD - East  POINT (144.97440 -37.81475)       None  \n",
       "2  Melbourne CBD - East  POINT (144.96785 -37.81540)       None  \n",
       "3  Melbourne CBD - East  POINT (144.96679 -37.80836)       None  \n",
       "4  Melbourne CBD - East  POINT (144.97400 -37.81417)       None  "
      ]
     },
     "execution_count": 77,
     "metadata": {},
     "output_type": "execute_result"
    }
   ],
   "source": [
    "merged.head()"
   ]
  },
  {
   "cell_type": "code",
   "execution_count": 80,
   "metadata": {},
   "outputs": [
    {
     "name": "stderr",
     "output_type": "stream",
     "text": [
      "/var/folders/hl/0j63l0bd7n3ggf_3ylf9n8q80000gn/T/ipykernel_81663/876340040.py:1: SettingWithCopyWarning: \n",
      "A value is trying to be set on a copy of a slice from a DataFrame\n",
      "\n",
      "See the caveats in the documentation: https://pandas.pydata.org/pandas-docs/stable/user_guide/indexing.html#returning-a-view-versus-a-copy\n",
      "  merged.rename(columns={'name': 'postcode', 'SA2_NAME21_x': 'SA2_district', 'geometry_x': 'property_geometry', 'geometry_y': 'station_geometry'}, inplace=True)\n"
     ]
    }
   ],
   "source": [
    "merged.rename(columns={'name': 'postcode', 'SA2_NAME21_x': 'SA2_district', 'geometry_x': 'property_geometry', 'geometry_y': 'station_geometry'}, inplace=True)"
   ]
  },
  {
   "cell_type": "code",
   "execution_count": 81,
   "metadata": {},
   "outputs": [
    {
     "name": "stderr",
     "output_type": "stream",
     "text": [
      "/Users/henrik_hao/opt/anaconda3/envs/MAST30034/lib/python3.10/site-packages/geopandas/geodataframe.py:1538: SettingWithCopyWarning: \n",
      "A value is trying to be set on a copy of a slice from a DataFrame.\n",
      "Try using .loc[row_indexer,col_indexer] = value instead\n",
      "\n",
      "See the caveats in the documentation: https://pandas.pydata.org/pandas-docs/stable/user_guide/indexing.html#returning-a-view-versus-a-copy\n",
      "  super().__setitem__(key, value)\n"
     ]
    }
   ],
   "source": [
    "merged['postcode'] = merged['postcode'].str[-4:]"
   ]
  },
  {
   "cell_type": "code",
   "execution_count": 82,
   "metadata": {},
   "outputs": [
    {
     "data": {
      "text/html": [
       "<div>\n",
       "<style scoped>\n",
       "    .dataframe tbody tr th:only-of-type {\n",
       "        vertical-align: middle;\n",
       "    }\n",
       "\n",
       "    .dataframe tbody tr th {\n",
       "        vertical-align: top;\n",
       "    }\n",
       "\n",
       "    .dataframe thead th {\n",
       "        text-align: right;\n",
       "    }\n",
       "</style>\n",
       "<table border=\"1\" class=\"dataframe\">\n",
       "  <thead>\n",
       "    <tr style=\"text-align: right;\">\n",
       "      <th></th>\n",
       "      <th>postcode</th>\n",
       "      <th>SA2_CODE21</th>\n",
       "      <th>SA2_district</th>\n",
       "      <th>property_geometry</th>\n",
       "      <th>station_geometry</th>\n",
       "    </tr>\n",
       "  </thead>\n",
       "  <tbody>\n",
       "    <tr>\n",
       "      <th>0</th>\n",
       "      <td>3000</td>\n",
       "      <td>206041503</td>\n",
       "      <td>Melbourne CBD - East</td>\n",
       "      <td>POINT (144.96912 -37.80951)</td>\n",
       "      <td>None</td>\n",
       "    </tr>\n",
       "    <tr>\n",
       "      <th>1</th>\n",
       "      <td>3000</td>\n",
       "      <td>206041503</td>\n",
       "      <td>Melbourne CBD - East</td>\n",
       "      <td>POINT (144.97440 -37.81475)</td>\n",
       "      <td>None</td>\n",
       "    </tr>\n",
       "    <tr>\n",
       "      <th>2</th>\n",
       "      <td>3000</td>\n",
       "      <td>206041503</td>\n",
       "      <td>Melbourne CBD - East</td>\n",
       "      <td>POINT (144.96785 -37.81540)</td>\n",
       "      <td>None</td>\n",
       "    </tr>\n",
       "    <tr>\n",
       "      <th>3</th>\n",
       "      <td>3000</td>\n",
       "      <td>206041503</td>\n",
       "      <td>Melbourne CBD - East</td>\n",
       "      <td>POINT (144.96679 -37.80836)</td>\n",
       "      <td>None</td>\n",
       "    </tr>\n",
       "    <tr>\n",
       "      <th>4</th>\n",
       "      <td>3000</td>\n",
       "      <td>206041503</td>\n",
       "      <td>Melbourne CBD - East</td>\n",
       "      <td>POINT (144.97400 -37.81417)</td>\n",
       "      <td>None</td>\n",
       "    </tr>\n",
       "  </tbody>\n",
       "</table>\n",
       "</div>"
      ],
      "text/plain": [
       "  postcode SA2_CODE21          SA2_district            property_geometry  \\\n",
       "0     3000  206041503  Melbourne CBD - East  POINT (144.96912 -37.80951)   \n",
       "1     3000  206041503  Melbourne CBD - East  POINT (144.97440 -37.81475)   \n",
       "2     3000  206041503  Melbourne CBD - East  POINT (144.96785 -37.81540)   \n",
       "3     3000  206041503  Melbourne CBD - East  POINT (144.96679 -37.80836)   \n",
       "4     3000  206041503  Melbourne CBD - East  POINT (144.97400 -37.81417)   \n",
       "\n",
       "  station_geometry  \n",
       "0             None  \n",
       "1             None  \n",
       "2             None  \n",
       "3             None  \n",
       "4             None  "
      ]
     },
     "execution_count": 82,
     "metadata": {},
     "output_type": "execute_result"
    }
   ],
   "source": [
    "merged.head()"
   ]
  },
  {
   "cell_type": "code",
   "execution_count": 83,
   "metadata": {},
   "outputs": [],
   "source": [
    "filtered_df = merged[merged['SA2_district'] == 'Melbourne CBD - West']\n"
   ]
  },
  {
   "cell_type": "code",
   "execution_count": 84,
   "metadata": {},
   "outputs": [
    {
     "data": {
      "text/html": [
       "<div>\n",
       "<style scoped>\n",
       "    .dataframe tbody tr th:only-of-type {\n",
       "        vertical-align: middle;\n",
       "    }\n",
       "\n",
       "    .dataframe tbody tr th {\n",
       "        vertical-align: top;\n",
       "    }\n",
       "\n",
       "    .dataframe thead th {\n",
       "        text-align: right;\n",
       "    }\n",
       "</style>\n",
       "<table border=\"1\" class=\"dataframe\">\n",
       "  <thead>\n",
       "    <tr style=\"text-align: right;\">\n",
       "      <th></th>\n",
       "      <th>postcode</th>\n",
       "      <th>SA2_CODE21</th>\n",
       "      <th>SA2_district</th>\n",
       "      <th>property_geometry</th>\n",
       "      <th>station_geometry</th>\n",
       "    </tr>\n",
       "  </thead>\n",
       "  <tbody>\n",
       "    <tr>\n",
       "      <th>161</th>\n",
       "      <td>3000</td>\n",
       "      <td>206041505</td>\n",
       "      <td>Melbourne CBD - West</td>\n",
       "      <td>POINT (144.96015 -37.81710)</td>\n",
       "      <td>POINT (144.95566 -37.81197)</td>\n",
       "    </tr>\n",
       "    <tr>\n",
       "      <th>162</th>\n",
       "      <td>3000</td>\n",
       "      <td>206041505</td>\n",
       "      <td>Melbourne CBD - West</td>\n",
       "      <td>POINT (144.96015 -37.81710)</td>\n",
       "      <td>POINT (144.96697 -37.81829)</td>\n",
       "    </tr>\n",
       "    <tr>\n",
       "      <th>163</th>\n",
       "      <td>3000</td>\n",
       "      <td>206041505</td>\n",
       "      <td>Melbourne CBD - West</td>\n",
       "      <td>POINT (144.95325 -37.81623)</td>\n",
       "      <td>POINT (144.95566 -37.81197)</td>\n",
       "    </tr>\n",
       "    <tr>\n",
       "      <th>164</th>\n",
       "      <td>3000</td>\n",
       "      <td>206041505</td>\n",
       "      <td>Melbourne CBD - West</td>\n",
       "      <td>POINT (144.95325 -37.81623)</td>\n",
       "      <td>POINT (144.96697 -37.81829)</td>\n",
       "    </tr>\n",
       "    <tr>\n",
       "      <th>165</th>\n",
       "      <td>3000</td>\n",
       "      <td>206041505</td>\n",
       "      <td>Melbourne CBD - West</td>\n",
       "      <td>POINT (144.96213 -37.81473)</td>\n",
       "      <td>POINT (144.95566 -37.81197)</td>\n",
       "    </tr>\n",
       "    <tr>\n",
       "      <th>...</th>\n",
       "      <td>...</td>\n",
       "      <td>...</td>\n",
       "      <td>...</td>\n",
       "      <td>...</td>\n",
       "      <td>...</td>\n",
       "    </tr>\n",
       "    <tr>\n",
       "      <th>712</th>\n",
       "      <td>3000</td>\n",
       "      <td>206041505</td>\n",
       "      <td>Melbourne CBD - West</td>\n",
       "      <td>POINT (144.95364 -37.81742)</td>\n",
       "      <td>POINT (144.96697 -37.81829)</td>\n",
       "    </tr>\n",
       "    <tr>\n",
       "      <th>713</th>\n",
       "      <td>3004</td>\n",
       "      <td>206041505</td>\n",
       "      <td>Melbourne CBD - West</td>\n",
       "      <td>POINT (144.95454 -37.81317)</td>\n",
       "      <td>POINT (144.95566 -37.81197)</td>\n",
       "    </tr>\n",
       "    <tr>\n",
       "      <th>714</th>\n",
       "      <td>3004</td>\n",
       "      <td>206041505</td>\n",
       "      <td>Melbourne CBD - West</td>\n",
       "      <td>POINT (144.95454 -37.81317)</td>\n",
       "      <td>POINT (144.96697 -37.81829)</td>\n",
       "    </tr>\n",
       "    <tr>\n",
       "      <th>715</th>\n",
       "      <td>3000</td>\n",
       "      <td>206041505</td>\n",
       "      <td>Melbourne CBD - West</td>\n",
       "      <td>POINT (144.95465 -37.81322)</td>\n",
       "      <td>POINT (144.95566 -37.81197)</td>\n",
       "    </tr>\n",
       "    <tr>\n",
       "      <th>716</th>\n",
       "      <td>3000</td>\n",
       "      <td>206041505</td>\n",
       "      <td>Melbourne CBD - West</td>\n",
       "      <td>POINT (144.95465 -37.81322)</td>\n",
       "      <td>POINT (144.96697 -37.81829)</td>\n",
       "    </tr>\n",
       "  </tbody>\n",
       "</table>\n",
       "<p>556 rows × 5 columns</p>\n",
       "</div>"
      ],
      "text/plain": [
       "    postcode SA2_CODE21          SA2_district            property_geometry  \\\n",
       "161     3000  206041505  Melbourne CBD - West  POINT (144.96015 -37.81710)   \n",
       "162     3000  206041505  Melbourne CBD - West  POINT (144.96015 -37.81710)   \n",
       "163     3000  206041505  Melbourne CBD - West  POINT (144.95325 -37.81623)   \n",
       "164     3000  206041505  Melbourne CBD - West  POINT (144.95325 -37.81623)   \n",
       "165     3000  206041505  Melbourne CBD - West  POINT (144.96213 -37.81473)   \n",
       "..       ...        ...                   ...                          ...   \n",
       "712     3000  206041505  Melbourne CBD - West  POINT (144.95364 -37.81742)   \n",
       "713     3004  206041505  Melbourne CBD - West  POINT (144.95454 -37.81317)   \n",
       "714     3004  206041505  Melbourne CBD - West  POINT (144.95454 -37.81317)   \n",
       "715     3000  206041505  Melbourne CBD - West  POINT (144.95465 -37.81322)   \n",
       "716     3000  206041505  Melbourne CBD - West  POINT (144.95465 -37.81322)   \n",
       "\n",
       "                station_geometry  \n",
       "161  POINT (144.95566 -37.81197)  \n",
       "162  POINT (144.96697 -37.81829)  \n",
       "163  POINT (144.95566 -37.81197)  \n",
       "164  POINT (144.96697 -37.81829)  \n",
       "165  POINT (144.95566 -37.81197)  \n",
       "..                           ...  \n",
       "712  POINT (144.96697 -37.81829)  \n",
       "713  POINT (144.95566 -37.81197)  \n",
       "714  POINT (144.96697 -37.81829)  \n",
       "715  POINT (144.95566 -37.81197)  \n",
       "716  POINT (144.96697 -37.81829)  \n",
       "\n",
       "[556 rows x 5 columns]"
      ]
     },
     "execution_count": 84,
     "metadata": {},
     "output_type": "execute_result"
    }
   ],
   "source": [
    "filtered_df"
   ]
  },
  {
   "cell_type": "code",
   "execution_count": 85,
   "metadata": {},
   "outputs": [],
   "source": [
    "park = gpd.read_file('../data/external_SA2/Park.geojson')"
   ]
  },
  {
   "cell_type": "code",
   "execution_count": 86,
   "metadata": {},
   "outputs": [
    {
     "name": "stderr",
     "output_type": "stream",
     "text": [
      "/Users/henrik_hao/opt/anaconda3/envs/MAST30034/lib/python3.10/site-packages/IPython/core/interactiveshell.py:3448: FutureWarning: The `op` parameter is deprecated and will be removed in a future release. Please use the `predicate` parameter instead.\n",
      "  if await self.run_code(code, result, async_=asy):\n"
     ]
    }
   ],
   "source": [
    "park_SA2 = gpd.sjoin(park, victoria_gdf, how=\"inner\", op=\"within\")"
   ]
  },
  {
   "cell_type": "code",
   "execution_count": 87,
   "metadata": {},
   "outputs": [],
   "source": [
    "property_agg1 = pd.merge(merged, park_SA2, on='SA2_CODE21', how='left')"
   ]
  },
  {
   "cell_type": "code",
   "execution_count": 88,
   "metadata": {},
   "outputs": [
    {
     "name": "stderr",
     "output_type": "stream",
     "text": [
      "/var/folders/hl/0j63l0bd7n3ggf_3ylf9n8q80000gn/T/ipykernel_81663/2093578972.py:2: SettingWithCopyWarning: \n",
      "A value is trying to be set on a copy of a slice from a DataFrame\n",
      "\n",
      "See the caveats in the documentation: https://pandas.pydata.org/pandas-docs/stable/user_guide/indexing.html#returning-a-view-versus-a-copy\n",
      "  merged.rename(columns={'geometry': 'park_geometry'}, inplace=True)\n"
     ]
    }
   ],
   "source": [
    "merged = property_agg1[['postcode', 'SA2_CODE21','SA2_district', 'property_geometry', 'station_geometry', 'geometry']]\n",
    "merged.rename(columns={'geometry': 'park_geometry'}, inplace=True)"
   ]
  },
  {
   "cell_type": "code",
   "execution_count": 89,
   "metadata": {},
   "outputs": [],
   "source": [
    "shop = gpd.read_file('../data/external_SA2/Mall, Shopping Centre & Department Store.geojson')"
   ]
  },
  {
   "cell_type": "code",
   "execution_count": 90,
   "metadata": {},
   "outputs": [
    {
     "name": "stderr",
     "output_type": "stream",
     "text": [
      "/Users/henrik_hao/opt/anaconda3/envs/MAST30034/lib/python3.10/site-packages/IPython/core/interactiveshell.py:3448: FutureWarning: The `op` parameter is deprecated and will be removed in a future release. Please use the `predicate` parameter instead.\n",
      "  if await self.run_code(code, result, async_=asy):\n"
     ]
    }
   ],
   "source": [
    "shop_SA2 = gpd.sjoin(shop, victoria_gdf, how=\"inner\", op=\"within\")"
   ]
  },
  {
   "cell_type": "code",
   "execution_count": 91,
   "metadata": {},
   "outputs": [],
   "source": [
    "property_agg2 = pd.merge(merged, shop_SA2, on='SA2_CODE21', how='left')"
   ]
  },
  {
   "cell_type": "code",
   "execution_count": 92,
   "metadata": {},
   "outputs": [
    {
     "name": "stderr",
     "output_type": "stream",
     "text": [
      "/var/folders/hl/0j63l0bd7n3ggf_3ylf9n8q80000gn/T/ipykernel_81663/853544697.py:2: SettingWithCopyWarning: \n",
      "A value is trying to be set on a copy of a slice from a DataFrame\n",
      "\n",
      "See the caveats in the documentation: https://pandas.pydata.org/pandas-docs/stable/user_guide/indexing.html#returning-a-view-versus-a-copy\n",
      "  merged.rename(columns={'geometry': 'shop_geometry'}, inplace=True)\n"
     ]
    }
   ],
   "source": [
    "merged = property_agg2[['postcode', 'SA2_CODE21','SA2_district','property_geometry', 'station_geometry', 'park_geometry', 'geometry']]\n",
    "merged.rename(columns={'geometry': 'shop_geometry'}, inplace=True)"
   ]
  },
  {
   "cell_type": "code",
   "execution_count": 93,
   "metadata": {},
   "outputs": [],
   "source": [
    "hospital = gpd.read_file('../data/external_SA2/Hospital.geojson')"
   ]
  },
  {
   "cell_type": "code",
   "execution_count": 94,
   "metadata": {},
   "outputs": [
    {
     "name": "stderr",
     "output_type": "stream",
     "text": [
      "/Users/henrik_hao/opt/anaconda3/envs/MAST30034/lib/python3.10/site-packages/IPython/core/interactiveshell.py:3448: FutureWarning: The `op` parameter is deprecated and will be removed in a future release. Please use the `predicate` parameter instead.\n",
      "  if await self.run_code(code, result, async_=asy):\n"
     ]
    }
   ],
   "source": [
    "hospital_SA2 = gpd.sjoin(hospital, victoria_gdf, how=\"inner\", op=\"within\")"
   ]
  },
  {
   "cell_type": "code",
   "execution_count": 95,
   "metadata": {},
   "outputs": [],
   "source": [
    "property_agg3 = pd.merge(merged, hospital_SA2, on='SA2_CODE21', how='left')"
   ]
  },
  {
   "cell_type": "code",
   "execution_count": 96,
   "metadata": {},
   "outputs": [
    {
     "name": "stderr",
     "output_type": "stream",
     "text": [
      "/var/folders/hl/0j63l0bd7n3ggf_3ylf9n8q80000gn/T/ipykernel_81663/3925431631.py:2: SettingWithCopyWarning: \n",
      "A value is trying to be set on a copy of a slice from a DataFrame\n",
      "\n",
      "See the caveats in the documentation: https://pandas.pydata.org/pandas-docs/stable/user_guide/indexing.html#returning-a-view-versus-a-copy\n",
      "  merged.rename(columns={'geometry': 'hospital_geometry'}, inplace=True)\n"
     ]
    }
   ],
   "source": [
    "merged = property_agg3[['postcode', 'SA2_CODE21','SA2_district','property_geometry', 'station_geometry', 'park_geometry', 'shop_geometry', 'geometry']]\n",
    "merged.rename(columns={'geometry': 'hospital_geometry'}, inplace=True)"
   ]
  },
  {
   "cell_type": "code",
   "execution_count": 97,
   "metadata": {},
   "outputs": [],
   "source": [
    "school_df = pd.read_csv(\"../data/external_SA2/complete_school_location.csv\", encoding='latin-1')\n",
    "school_df['coordinates'] = school_df.apply(lambda row: [row['Y'], row['X']], axis=1)"
   ]
  },
  {
   "cell_type": "code",
   "execution_count": 98,
   "metadata": {},
   "outputs": [],
   "source": [
    "# Your property data\n",
    "school_metadata = school_df\n",
    "\n",
    "# Convert the coordinates column to a suitable format (assuming it's a string like '[lat, lon]')\n",
    "#school_metadata['coordinates'] = school_metadata['coordinates'].apply(eval)\n",
    "\n",
    "# Create points and names from the property_metadata\n",
    "coords = [Point(xy[1], xy[0]) for xy in school_metadata['coordinates']]\n",
    "names = school_metadata['School_Type'].tolist()\n",
    "\n",
    "# Convert to GeoDataFrame\n",
    "school = gpd.GeoDataFrame({'name': names, 'geometry': coords})"
   ]
  },
  {
   "cell_type": "code",
   "execution_count": 99,
   "metadata": {},
   "outputs": [
    {
     "name": "stderr",
     "output_type": "stream",
     "text": [
      "/Users/henrik_hao/opt/anaconda3/envs/MAST30034/lib/python3.10/site-packages/IPython/core/interactiveshell.py:3448: FutureWarning: The `op` parameter is deprecated and will be removed in a future release. Please use the `predicate` parameter instead.\n",
      "  if await self.run_code(code, result, async_=asy):\n",
      "/var/folders/hl/0j63l0bd7n3ggf_3ylf9n8q80000gn/T/ipykernel_81663/1493813974.py:1: UserWarning: CRS mismatch between the CRS of left geometries and the CRS of right geometries.\n",
      "Use `to_crs()` to reproject one of the input geometries to match the CRS of the other.\n",
      "\n",
      "Left CRS: None\n",
      "Right CRS: EPSG:4326\n",
      "\n",
      "  school_SA2 = gpd.sjoin(school, victoria_gdf, how=\"inner\", op=\"within\")\n"
     ]
    }
   ],
   "source": [
    "school_SA2 = gpd.sjoin(school, victoria_gdf, how=\"inner\", op=\"within\")"
   ]
  },
  {
   "cell_type": "code",
   "execution_count": 100,
   "metadata": {},
   "outputs": [],
   "source": [
    "property_agg4 = pd.merge(merged, school_SA2, on='SA2_CODE21', how='left')"
   ]
  },
  {
   "cell_type": "code",
   "execution_count": 101,
   "metadata": {},
   "outputs": [
    {
     "name": "stderr",
     "output_type": "stream",
     "text": [
      "/var/folders/hl/0j63l0bd7n3ggf_3ylf9n8q80000gn/T/ipykernel_81663/3682636011.py:2: SettingWithCopyWarning: \n",
      "A value is trying to be set on a copy of a slice from a DataFrame\n",
      "\n",
      "See the caveats in the documentation: https://pandas.pydata.org/pandas-docs/stable/user_guide/indexing.html#returning-a-view-versus-a-copy\n",
      "  merged.rename(columns={'geometry': 'school_geometry'}, inplace=True)\n"
     ]
    }
   ],
   "source": [
    "merged = property_agg4[['postcode', 'SA2_CODE21','SA2_district','property_geometry', 'station_geometry', 'park_geometry', 'shop_geometry','hospital_geometry', 'geometry']]\n",
    "merged.rename(columns={'geometry': 'school_geometry'}, inplace=True)"
   ]
  },
  {
   "cell_type": "code",
   "execution_count": 102,
   "metadata": {},
   "outputs": [
    {
     "name": "stderr",
     "output_type": "stream",
     "text": [
      "/Users/henrik_hao/opt/anaconda3/envs/MAST30034/lib/python3.10/site-packages/IPython/core/interactiveshell.py:3448: FutureWarning: The `op` parameter is deprecated and will be removed in a future release. Please use the `predicate` parameter instead.\n",
      "  if await self.run_code(code, result, async_=asy):\n"
     ]
    }
   ],
   "source": [
    "supermarket = gpd.read_file('../data/external_SA2/Supermarket.geojson')\n",
    "supermarket_SA2 = gpd.sjoin(supermarket, victoria_gdf, how=\"inner\", op=\"within\")"
   ]
  },
  {
   "cell_type": "code",
   "execution_count": 103,
   "metadata": {},
   "outputs": [],
   "source": [
    "property_agg5 = pd.merge(merged, supermarket_SA2, on='SA2_CODE21', how='left')"
   ]
  },
  {
   "cell_type": "code",
   "execution_count": 104,
   "metadata": {},
   "outputs": [
    {
     "name": "stderr",
     "output_type": "stream",
     "text": [
      "/var/folders/hl/0j63l0bd7n3ggf_3ylf9n8q80000gn/T/ipykernel_81663/4112485194.py:2: SettingWithCopyWarning: \n",
      "A value is trying to be set on a copy of a slice from a DataFrame\n",
      "\n",
      "See the caveats in the documentation: https://pandas.pydata.org/pandas-docs/stable/user_guide/indexing.html#returning-a-view-versus-a-copy\n",
      "  merged.rename(columns={'geometry': 'supermarket_geometry'}, inplace=True)\n"
     ]
    }
   ],
   "source": [
    "merged = property_agg5[['postcode', 'SA2_CODE21','SA2_district', 'property_geometry', 'station_geometry', 'park_geometry', 'shop_geometry','hospital_geometry','school_geometry', 'geometry']]\n",
    "merged.rename(columns={'geometry': 'supermarket_geometry'}, inplace=True)"
   ]
  },
  {
   "cell_type": "code",
   "execution_count": 105,
   "metadata": {},
   "outputs": [],
   "source": [
    "merged.to_csv(\"../data/raw/aggregated_locations.csv\")"
   ]
  }
 ],
 "metadata": {
  "kernelspec": {
   "display_name": "Python 3",
   "language": "python",
   "name": "python3"
  },
  "language_info": {
   "codemirror_mode": {
    "name": "ipython",
    "version": 3
   },
   "file_extension": ".py",
   "mimetype": "text/x-python",
   "name": "python",
   "nbconvert_exporter": "python",
   "pygments_lexer": "ipython3",
   "version": "3.10.12"
  },
  "orig_nbformat": 4
 },
 "nbformat": 4,
 "nbformat_minor": 2
}
