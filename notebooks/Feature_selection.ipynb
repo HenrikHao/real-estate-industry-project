{
 "cells": [
  {
   "cell_type": "code",
   "execution_count": 1,
   "metadata": {},
   "outputs": [
    {
     "name": "stdout",
     "output_type": "stream",
     "text": [
      "Intel MKL WARNING: Support of Intel(R) Streaming SIMD Extensions 4.2 (Intel(R) SSE4.2) enabled only processors has been deprecated. Intel oneAPI Math Kernel Library 2025.0 will require Intel(R) Advanced Vector Extensions (Intel(R) AVX) instructions.\n",
      "Intel MKL WARNING: Support of Intel(R) Streaming SIMD Extensions 4.2 (Intel(R) SSE4.2) enabled only processors has been deprecated. Intel oneAPI Math Kernel Library 2025.0 will require Intel(R) Advanced Vector Extensions (Intel(R) AVX) instructions.\n"
     ]
    }
   ],
   "source": [
    "import pandas as pd\n",
    "import numpy as np\n",
    "import matplotlib.pyplot as plt"
   ]
  },
  {
   "cell_type": "code",
   "execution_count": 2,
   "metadata": {},
   "outputs": [],
   "source": [
    "aggregated_data = pd.read_csv(\"../data/aggregated_dataset.csv\")"
   ]
  },
  {
   "cell_type": "code",
   "execution_count": 3,
   "metadata": {},
   "outputs": [
    {
     "data": {
      "text/html": [
       "<div>\n",
       "<style scoped>\n",
       "    .dataframe tbody tr th:only-of-type {\n",
       "        vertical-align: middle;\n",
       "    }\n",
       "\n",
       "    .dataframe tbody tr th {\n",
       "        vertical-align: top;\n",
       "    }\n",
       "\n",
       "    .dataframe thead th {\n",
       "        text-align: right;\n",
       "    }\n",
       "</style>\n",
       "<table border=\"1\" class=\"dataframe\">\n",
       "  <thead>\n",
       "    <tr style=\"text-align: right;\">\n",
       "      <th></th>\n",
       "      <th>Unnamed: 0</th>\n",
       "      <th>name</th>\n",
       "      <th>geometry</th>\n",
       "      <th>cost</th>\n",
       "      <th>beds</th>\n",
       "      <th>baths</th>\n",
       "      <th>parkings</th>\n",
       "      <th>SA2_CODE21</th>\n",
       "      <th>SA2_NAME21</th>\n",
       "      <th>Nearest_station</th>\n",
       "      <th>Nearest_park</th>\n",
       "      <th>Nearest_shop</th>\n",
       "      <th>Nearest_hospital</th>\n",
       "      <th>Nearest_school</th>\n",
       "      <th>Nearest_supermarket</th>\n",
       "    </tr>\n",
       "  </thead>\n",
       "  <tbody>\n",
       "    <tr>\n",
       "      <th>0</th>\n",
       "      <td>0</td>\n",
       "      <td>904/265 Exhibition Street Melbourne VIC 3000</td>\n",
       "      <td>POINT (144.9691204 -37.8095116)</td>\n",
       "      <td>850.0</td>\n",
       "      <td>2.0</td>\n",
       "      <td>2.0</td>\n",
       "      <td>1.0</td>\n",
       "      <td>206041503</td>\n",
       "      <td>Melbourne CBD - East</td>\n",
       "      <td>0.6452</td>\n",
       "      <td>1.7146</td>\n",
       "      <td>0.7007</td>\n",
       "      <td>2.1130</td>\n",
       "      <td>0.3461</td>\n",
       "      <td>0.743333</td>\n",
       "    </tr>\n",
       "    <tr>\n",
       "      <th>1</th>\n",
       "      <td>6</td>\n",
       "      <td>2302/17 Spring Street Melbourne VIC 3000</td>\n",
       "      <td>POINT (144.9744021 -37.8147493)</td>\n",
       "      <td>1500.0</td>\n",
       "      <td>2.0</td>\n",
       "      <td>2.0</td>\n",
       "      <td>1.0</td>\n",
       "      <td>206041503</td>\n",
       "      <td>Melbourne CBD - East</td>\n",
       "      <td>0.4319</td>\n",
       "      <td>2.7503</td>\n",
       "      <td>1.1439</td>\n",
       "      <td>2.4385</td>\n",
       "      <td>0.5171</td>\n",
       "      <td>2.190000</td>\n",
       "    </tr>\n",
       "    <tr>\n",
       "      <th>2</th>\n",
       "      <td>12</td>\n",
       "      <td>11/187 Collins Street Melbourne VIC 3000</td>\n",
       "      <td>POINT (144.9678522 -37.81540469999999)</td>\n",
       "      <td>800.0</td>\n",
       "      <td>1.0</td>\n",
       "      <td>1.0</td>\n",
       "      <td>NaN</td>\n",
       "      <td>206041503</td>\n",
       "      <td>Melbourne CBD - East</td>\n",
       "      <td>2.1035</td>\n",
       "      <td>2.8712</td>\n",
       "      <td>1.2648</td>\n",
       "      <td>2.7744</td>\n",
       "      <td>0.2480</td>\n",
       "      <td>2.823333</td>\n",
       "    </tr>\n",
       "    <tr>\n",
       "      <th>3</th>\n",
       "      <td>19</td>\n",
       "      <td>1605/68 La Trobe Street Melbourne VIC 3000</td>\n",
       "      <td>POINT (144.9667899 -37.8083648)</td>\n",
       "      <td>590.0</td>\n",
       "      <td>2.0</td>\n",
       "      <td>1.0</td>\n",
       "      <td>1.0</td>\n",
       "      <td>206041503</td>\n",
       "      <td>Melbourne CBD - East</td>\n",
       "      <td>1.0761</td>\n",
       "      <td>1.6096</td>\n",
       "      <td>0.9307</td>\n",
       "      <td>2.0254</td>\n",
       "      <td>0.4471</td>\n",
       "      <td>2.193333</td>\n",
       "    </tr>\n",
       "    <tr>\n",
       "      <th>4</th>\n",
       "      <td>21</td>\n",
       "      <td>3007/35 Spring Street Melbourne VIC 3000</td>\n",
       "      <td>POINT (144.9740049 -37.8141725)</td>\n",
       "      <td>2300.0</td>\n",
       "      <td>3.0</td>\n",
       "      <td>2.0</td>\n",
       "      <td>2.0</td>\n",
       "      <td>206041503</td>\n",
       "      <td>Melbourne CBD - East</td>\n",
       "      <td>0.3607</td>\n",
       "      <td>2.6702</td>\n",
       "      <td>1.0638</td>\n",
       "      <td>2.2120</td>\n",
       "      <td>0.4370</td>\n",
       "      <td>1.968333</td>\n",
       "    </tr>\n",
       "  </tbody>\n",
       "</table>\n",
       "</div>"
      ],
      "text/plain": [
       "   Unnamed: 0                                          name  \\\n",
       "0           0  904/265 Exhibition Street Melbourne VIC 3000   \n",
       "1           6      2302/17 Spring Street Melbourne VIC 3000   \n",
       "2          12      11/187 Collins Street Melbourne VIC 3000   \n",
       "3          19    1605/68 La Trobe Street Melbourne VIC 3000   \n",
       "4          21      3007/35 Spring Street Melbourne VIC 3000   \n",
       "\n",
       "                                 geometry    cost  beds  baths  parkings  \\\n",
       "0         POINT (144.9691204 -37.8095116)   850.0   2.0    2.0       1.0   \n",
       "1         POINT (144.9744021 -37.8147493)  1500.0   2.0    2.0       1.0   \n",
       "2  POINT (144.9678522 -37.81540469999999)   800.0   1.0    1.0       NaN   \n",
       "3         POINT (144.9667899 -37.8083648)   590.0   2.0    1.0       1.0   \n",
       "4         POINT (144.9740049 -37.8141725)  2300.0   3.0    2.0       2.0   \n",
       "\n",
       "   SA2_CODE21            SA2_NAME21  Nearest_station  Nearest_park  \\\n",
       "0   206041503  Melbourne CBD - East           0.6452        1.7146   \n",
       "1   206041503  Melbourne CBD - East           0.4319        2.7503   \n",
       "2   206041503  Melbourne CBD - East           2.1035        2.8712   \n",
       "3   206041503  Melbourne CBD - East           1.0761        1.6096   \n",
       "4   206041503  Melbourne CBD - East           0.3607        2.6702   \n",
       "\n",
       "   Nearest_shop  Nearest_hospital  Nearest_school  Nearest_supermarket  \n",
       "0        0.7007            2.1130          0.3461             0.743333  \n",
       "1        1.1439            2.4385          0.5171             2.190000  \n",
       "2        1.2648            2.7744          0.2480             2.823333  \n",
       "3        0.9307            2.0254          0.4471             2.193333  \n",
       "4        1.0638            2.2120          0.4370             1.968333  "
      ]
     },
     "execution_count": 3,
     "metadata": {},
     "output_type": "execute_result"
    }
   ],
   "source": [
    "aggregated_data.head()"
   ]
  },
  {
   "cell_type": "code",
   "execution_count": 4,
   "metadata": {},
   "outputs": [
    {
     "data": {
      "text/plain": [
       "Unnamed: 0                0\n",
       "name                      0\n",
       "geometry                  0\n",
       "cost                      0\n",
       "beds                      0\n",
       "baths                     0\n",
       "parkings               1929\n",
       "SA2_CODE21                0\n",
       "SA2_NAME21                0\n",
       "Nearest_station           0\n",
       "Nearest_park              0\n",
       "Nearest_shop              0\n",
       "Nearest_hospital          0\n",
       "Nearest_school            0\n",
       "Nearest_supermarket       0\n",
       "dtype: int64"
      ]
     },
     "execution_count": 4,
     "metadata": {},
     "output_type": "execute_result"
    }
   ],
   "source": [
    "# check for the missing value\n",
    "aggregated_data.isnull().sum()"
   ]
  },
  {
   "cell_type": "code",
   "execution_count": 5,
   "metadata": {},
   "outputs": [],
   "source": [
    "# impute the missing values in the 'parkings' column to be 0\n",
    "aggregated_data = aggregated_data.fillna(0)"
   ]
  },
  {
   "cell_type": "code",
   "execution_count": 6,
   "metadata": {},
   "outputs": [
    {
     "data": {
      "text/plain": [
       "Unnamed: 0               int64\n",
       "name                    object\n",
       "geometry                object\n",
       "cost                   float64\n",
       "beds                   float64\n",
       "baths                  float64\n",
       "parkings               float64\n",
       "SA2_CODE21               int64\n",
       "SA2_NAME21              object\n",
       "Nearest_station        float64\n",
       "Nearest_park           float64\n",
       "Nearest_shop           float64\n",
       "Nearest_hospital       float64\n",
       "Nearest_school         float64\n",
       "Nearest_supermarket    float64\n",
       "dtype: object"
      ]
     },
     "execution_count": 6,
     "metadata": {},
     "output_type": "execute_result"
    }
   ],
   "source": [
    "aggregated_data.dtypes"
   ]
  },
  {
   "cell_type": "code",
   "execution_count": 7,
   "metadata": {},
   "outputs": [],
   "source": [
    "# drop the meaningless/irrelevant features and the SA2 region feature which is important\n",
    "numerical_data = aggregated_data.drop(['Unnamed: 0', 'name', 'geometry', 'SA2_CODE21', 'SA2_NAME21'], axis = 1)"
   ]
  },
  {
   "cell_type": "code",
   "execution_count": 8,
   "metadata": {},
   "outputs": [
    {
     "data": {
      "text/plain": [
       "cost                   float64\n",
       "beds                   float64\n",
       "baths                  float64\n",
       "parkings               float64\n",
       "Nearest_station        float64\n",
       "Nearest_park           float64\n",
       "Nearest_shop           float64\n",
       "Nearest_hospital       float64\n",
       "Nearest_school         float64\n",
       "Nearest_supermarket    float64\n",
       "dtype: object"
      ]
     },
     "execution_count": 8,
     "metadata": {},
     "output_type": "execute_result"
    }
   ],
   "source": [
    "numerical_data.dtypes"
   ]
  },
  {
   "cell_type": "code",
   "execution_count": 9,
   "metadata": {},
   "outputs": [],
   "source": [
    "# for the infinite distance value, we impute it with 999km which is reasonable from one property to any facility\n",
    "df_imputed = numerical_data.replace([np.inf, -np.inf], np.nan)\n",
    "df_imputed = df_imputed.fillna(999)"
   ]
  },
  {
   "cell_type": "code",
   "execution_count": 10,
   "metadata": {},
   "outputs": [],
   "source": [
    "from sklearn.preprocessing import StandardScaler\n",
    "\n",
    "# Create a StandardScaler instance\n",
    "scaler = StandardScaler()\n",
    "\n",
    "# Fit the scaler to your numerical data and transform it\n",
    "X_standardized = scaler.fit_transform(df_imputed)\n",
    "X_standardized = pd.DataFrame(X_standardized, columns=df_imputed.columns)\n",
    "\n",
    "# X_standardized now contains your standardized numerical data"
   ]
  },
  {
   "cell_type": "code",
   "execution_count": 11,
   "metadata": {},
   "outputs": [],
   "source": [
    "X = X_standardized.copy()\n",
    "y = X.pop(\"cost\")\n",
    "\n",
    "# Label encoding for categoricals\n",
    "for colname in X.select_dtypes(\"object\"):\n",
    "    X[colname], _ = X[colname].factorize()\n",
    "\n",
    "# All discrete features should now have integer dtypes (double-check this before using MI!)\n",
    "discrete_features = X.dtypes == int"
   ]
  },
  {
   "cell_type": "code",
   "execution_count": 8,
   "metadata": {},
   "outputs": [],
   "source": [
    "# X_imputed = X.replace([np.inf, -np.inf], np.nan)\n",
    "# X_imputed = X_imputed.fillna(999)"
   ]
  },
  {
   "cell_type": "code",
   "execution_count": 12,
   "metadata": {},
   "outputs": [
    {
     "name": "stdout",
     "output_type": "stream",
     "text": [
      "Rows with Infinite Values:\n",
      "Empty DataFrame\n",
      "Columns: [beds, baths, parkings, Nearest_station, Nearest_park, Nearest_shop, Nearest_hospital, Nearest_school, Nearest_supermarket]\n",
      "Index: []\n"
     ]
    }
   ],
   "source": [
    "# Identify rows with infinite values\n",
    "rows_with_infinity = X[X.isin([np.inf, -np.inf]).any(axis=1)]\n",
    "\n",
    "# Print the rows with infinite values\n",
    "print(\"Rows with Infinite Values:\")\n",
    "print(rows_with_infinity)"
   ]
  },
  {
   "cell_type": "code",
   "execution_count": 13,
   "metadata": {},
   "outputs": [
    {
     "data": {
      "text/plain": [
       "Nearest_hospital       0.162492\n",
       "baths                  0.141927\n",
       "Nearest_park           0.139123\n",
       "beds                   0.131376\n",
       "Nearest_shop           0.102267\n",
       "Nearest_station        0.095974\n",
       "Nearest_supermarket    0.092692\n",
       "Nearest_school         0.071311\n",
       "parkings               0.049112\n",
       "Name: MI Scores, dtype: float64"
      ]
     },
     "execution_count": 13,
     "metadata": {},
     "output_type": "execute_result"
    }
   ],
   "source": [
    "from sklearn.feature_selection import mutual_info_regression\n",
    "\n",
    "def make_mi_scores(X, y, discrete_features):\n",
    "    mi_scores = mutual_info_regression(X, y, discrete_features=discrete_features)\n",
    "    mi_scores = pd.Series(mi_scores, name=\"MI Scores\", index=X.columns)\n",
    "    mi_scores = mi_scores.sort_values(ascending=False)\n",
    "    return mi_scores\n",
    "\n",
    "mi_scores = make_mi_scores(X, y, discrete_features)\n",
    "mi_scores  # show a few features with their MI scores"
   ]
  },
  {
   "cell_type": "code",
   "execution_count": 14,
   "metadata": {},
   "outputs": [
    {
     "data": {
      "text/plain": [
       "array([0.08091511])"
      ]
     },
     "execution_count": 14,
     "metadata": {},
     "output_type": "execute_result"
    }
   ],
   "source": [
    "# calculate the mutual information of the SA2 region feature\n",
    "mutual_info_regression(aggregated_data['SA2_CODE21'].to_frame(), y)"
   ]
  },
  {
   "cell_type": "code",
   "execution_count": 15,
   "metadata": {},
   "outputs": [
    {
     "data": {
      "image/png": "[encoded data removed]",
      "text/plain": [
       "<Figure size 800x500 with 1 Axes>"
      ]
     },
     "metadata": {},
     "output_type": "display_data"
    }
   ],
   "source": [
    "def plot_mi_scores(scores):\n",
    "    scores = scores.sort_values(ascending=True)\n",
    "    width = np.arange(len(scores))\n",
    "    ticks = list(scores.index)\n",
    "    plt.barh(width, scores)\n",
    "    plt.yticks(width, ticks)\n",
    "    plt.title(\"Mutual Information Scores\")\n",
    "\n",
    "# visualize the MI score for each feature\n",
    "plt.figure(dpi=100, figsize=(8, 5))\n",
    "plot_mi_scores(mi_scores)"
   ]
  },
  {
   "cell_type": "markdown",
   "metadata": {},
   "source": [
    "Based on majority voting, we can conclude that 'Nearest_hospital', 'baths', 'Nearest_park', 'beds' are mainly correlated with the rental price while the 'Nearest_school' and 'parkings' has less significant impact on the rental price."
   ]
  }
 ],
 "metadata": {
  "kernelspec": {
   "display_name": "mast30034_env",
   "language": "python",
   "name": "python3"
  },
  "language_info": {
   "codemirror_mode": {
    "name": "ipython",
    "version": 3
   },
   "file_extension": ".py",
   "mimetype": "text/x-python",
   "name": "python",
   "nbconvert_exporter": "python",
   "pygments_lexer": "ipython3",
   "version": "3.9.17"
  },
  "orig_nbformat": 4
 },
 "nbformat": 4,
 "nbformat_minor": 2
}
