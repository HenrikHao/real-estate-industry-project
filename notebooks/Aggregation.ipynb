{
 "cells": [
  {
   "cell_type": "code",
   "execution_count": 83,
   "metadata": {},
   "outputs": [],
   "source": [
    "import pandas as pd\n",
    "import json\n",
    "import geopandas as gpd\n",
    "from shapely.geometry import Point"
   ]
  },
  {
   "cell_type": "code",
   "execution_count": 84,
   "metadata": {},
   "outputs": [],
   "source": [
    "# Your property data\n",
    "property_metadata = pd.read_csv(\"../data/raw/properties.csv\")\n",
    "\n",
    "# Convert the coordinates column to a suitable format (assuming it's a string like '[lat, lon]')\n",
    "property_metadata['coordinates'] = property_metadata['coordinates'].apply(eval)\n",
    "\n",
    "# Create points and names from the property_metadata\n",
    "coords = [Point(xy[1], xy[0]) for xy in property_metadata['coordinates']]\n",
    "names = property_metadata['name'].tolist()\n",
    "\n",
    "# Convert to GeoDataFrame\n",
    "property = gpd.GeoDataFrame({'name': names, 'geometry': coords})\n"
   ]
  },
  {
   "cell_type": "code",
   "execution_count": 85,
   "metadata": {},
   "outputs": [
    {
     "name": "stderr",
     "output_type": "stream",
     "text": [
      "/home/jqqian1/.local/lib/python3.10/site-packages/IPython/core/interactiveshell.py:3448: FutureWarning: The `op` parameter is deprecated and will be removed in a future release. Please use the `predicate` parameter instead.\n",
      "  if await self.run_code(code, result, async_=asy):\n",
      "/tmp/ipykernel_25170/2101387466.py:5: UserWarning: CRS mismatch between the CRS of left geometries and the CRS of right geometries.\n",
      "Use `to_crs()` to reproject one of the input geometries to match the CRS of the other.\n",
      "\n",
      "Left CRS: None\n",
      "Right CRS: EPSG:4326\n",
      "\n",
      "  property_SA2 = gpd.sjoin(property, victoria_gdf, how=\"inner\", op=\"within\")\n"
     ]
    }
   ],
   "source": [
    "# Assuming property_gdf and victoria_gdf are already defined as per your provided code...\n",
    "victoria_gdf = gpd.read_file('../data/Statistical_area_level2/victoria.geojson')\n",
    "\n",
    "# Perform a spatial join\n",
    "property_SA2 = gpd.sjoin(property, victoria_gdf, how=\"inner\", op=\"within\")"
   ]
  },
  {
   "cell_type": "code",
   "execution_count": 86,
   "metadata": {},
   "outputs": [],
   "source": [
    "station = gpd.read_file('../data/external_SA2/Station.geojson')"
   ]
  },
  {
   "cell_type": "code",
   "execution_count": 87,
   "metadata": {},
   "outputs": [
    {
     "name": "stderr",
     "output_type": "stream",
     "text": [
      "/home/jqqian1/.local/lib/python3.10/site-packages/IPython/core/interactiveshell.py:3448: FutureWarning: The `op` parameter is deprecated and will be removed in a future release. Please use the `predicate` parameter instead.\n",
      "  if await self.run_code(code, result, async_=asy):\n"
     ]
    }
   ],
   "source": [
    "station_SA2 = gpd.sjoin(station, victoria_gdf, how=\"inner\", op=\"within\")"
   ]
  },
  {
   "cell_type": "code",
   "execution_count": 88,
   "metadata": {},
   "outputs": [],
   "source": [
    "property_agg = pd.merge(property_SA2, station_SA2, on='SA2_CODE21', how='left')"
   ]
  },
  {
   "cell_type": "code",
   "execution_count": 89,
   "metadata": {},
   "outputs": [],
   "source": [
    "merged = property_agg[['name_x', 'SA2_CODE21', 'SA2_NAME21_x', 'geometry_x', 'geometry_y']]"
   ]
  },
  {
   "cell_type": "code",
   "execution_count": 90,
   "metadata": {},
   "outputs": [
    {
     "name": "stderr",
     "output_type": "stream",
     "text": [
      "/tmp/ipykernel_25170/112319595.py:1: SettingWithCopyWarning: \n",
      "A value is trying to be set on a copy of a slice from a DataFrame\n",
      "\n",
      "See the caveats in the documentation: https://pandas.pydata.org/pandas-docs/stable/user_guide/indexing.html#returning-a-view-versus-a-copy\n",
      "  merged.rename(columns={'name_x': 'postcode', 'SA2_NAME21_x': 'SA2_district', 'geometry_x': 'property_geometry', 'geometry_y': 'station_geometry'}, inplace=True)\n"
     ]
    }
   ],
   "source": [
    "merged.rename(columns={'name_x': 'postcode', 'SA2_NAME21_x': 'SA2_district', 'geometry_x': 'property_geometry', 'geometry_y': 'station_geometry'}, inplace=True)"
   ]
  },
  {
   "cell_type": "code",
   "execution_count": 91,
   "metadata": {},
   "outputs": [
    {
     "name": "stderr",
     "output_type": "stream",
     "text": [
      "/home/jqqian1/.local/lib/python3.10/site-packages/geopandas/geodataframe.py:1538: SettingWithCopyWarning: \n",
      "A value is trying to be set on a copy of a slice from a DataFrame.\n",
      "Try using .loc[row_indexer,col_indexer] = value instead\n",
      "\n",
      "See the caveats in the documentation: https://pandas.pydata.org/pandas-docs/stable/user_guide/indexing.html#returning-a-view-versus-a-copy\n",
      "  super().__setitem__(key, value)\n"
     ]
    }
   ],
   "source": [
    "merged['postcode'] = merged['postcode'].str[-4:]"
   ]
  },
  {
   "cell_type": "code",
   "execution_count": 93,
   "metadata": {},
   "outputs": [],
   "source": [
    "park = gpd.read_file('../data/external_SA2/Park.geojson')"
   ]
  },
  {
   "cell_type": "code",
   "execution_count": 94,
   "metadata": {},
   "outputs": [
    {
     "name": "stderr",
     "output_type": "stream",
     "text": [
      "/home/jqqian1/.local/lib/python3.10/site-packages/IPython/core/interactiveshell.py:3448: FutureWarning: The `op` parameter is deprecated and will be removed in a future release. Please use the `predicate` parameter instead.\n",
      "  if await self.run_code(code, result, async_=asy):\n"
     ]
    }
   ],
   "source": [
    "park_SA2 = gpd.sjoin(park, victoria_gdf, how=\"inner\", op=\"within\")"
   ]
  },
  {
   "cell_type": "code",
   "execution_count": 95,
   "metadata": {},
   "outputs": [],
   "source": [
    "property_agg1 = pd.merge(merged, park_SA2, on='SA2_CODE21', how='left')"
   ]
  },
  {
   "cell_type": "code",
   "execution_count": 96,
   "metadata": {},
   "outputs": [
    {
     "name": "stderr",
     "output_type": "stream",
     "text": [
      "/tmp/ipykernel_25170/2093578972.py:2: SettingWithCopyWarning: \n",
      "A value is trying to be set on a copy of a slice from a DataFrame\n",
      "\n",
      "See the caveats in the documentation: https://pandas.pydata.org/pandas-docs/stable/user_guide/indexing.html#returning-a-view-versus-a-copy\n",
      "  merged.rename(columns={'geometry': 'park_geometry'}, inplace=True)\n"
     ]
    }
   ],
   "source": [
    "merged = property_agg1[['postcode', 'SA2_CODE21','SA2_district', 'property_geometry', 'station_geometry', 'geometry']]\n",
    "merged.rename(columns={'geometry': 'park_geometry'}, inplace=True)"
   ]
  },
  {
   "cell_type": "code",
   "execution_count": 98,
   "metadata": {},
   "outputs": [],
   "source": [
    "shop = gpd.read_file('../data/external_SA2/Mall, Shopping Centre & Department Store.geojson')"
   ]
  },
  {
   "cell_type": "code",
   "execution_count": 99,
   "metadata": {},
   "outputs": [
    {
     "name": "stderr",
     "output_type": "stream",
     "text": [
      "/home/jqqian1/.local/lib/python3.10/site-packages/IPython/core/interactiveshell.py:3448: FutureWarning: The `op` parameter is deprecated and will be removed in a future release. Please use the `predicate` parameter instead.\n",
      "  if await self.run_code(code, result, async_=asy):\n"
     ]
    }
   ],
   "source": [
    "shop_SA2 = gpd.sjoin(shop, victoria_gdf, how=\"inner\", op=\"within\")"
   ]
  },
  {
   "cell_type": "code",
   "execution_count": 100,
   "metadata": {},
   "outputs": [],
   "source": [
    "property_agg2 = pd.merge(merged, shop_SA2, on='SA2_CODE21', how='left')"
   ]
  },
  {
   "cell_type": "code",
   "execution_count": 101,
   "metadata": {},
   "outputs": [
    {
     "name": "stderr",
     "output_type": "stream",
     "text": [
      "/tmp/ipykernel_25170/853544697.py:2: SettingWithCopyWarning: \n",
      "A value is trying to be set on a copy of a slice from a DataFrame\n",
      "\n",
      "See the caveats in the documentation: https://pandas.pydata.org/pandas-docs/stable/user_guide/indexing.html#returning-a-view-versus-a-copy\n",
      "  merged.rename(columns={'geometry': 'shop_geometry'}, inplace=True)\n"
     ]
    }
   ],
   "source": [
    "merged = property_agg2[['postcode', 'SA2_CODE21','SA2_district','property_geometry', 'station_geometry', 'park_geometry', 'geometry']]\n",
    "merged.rename(columns={'geometry': 'shop_geometry'}, inplace=True)"
   ]
  },
  {
   "cell_type": "code",
   "execution_count": 102,
   "metadata": {},
   "outputs": [],
   "source": [
    "hospital = gpd.read_file('../data/external_SA2/Hospital.geojson')"
   ]
  },
  {
   "cell_type": "code",
   "execution_count": 103,
   "metadata": {},
   "outputs": [
    {
     "name": "stderr",
     "output_type": "stream",
     "text": [
      "/home/jqqian1/.local/lib/python3.10/site-packages/IPython/core/interactiveshell.py:3448: FutureWarning: The `op` parameter is deprecated and will be removed in a future release. Please use the `predicate` parameter instead.\n",
      "  if await self.run_code(code, result, async_=asy):\n"
     ]
    }
   ],
   "source": [
    "hospital_SA2 = gpd.sjoin(hospital, victoria_gdf, how=\"inner\", op=\"within\")"
   ]
  },
  {
   "cell_type": "code",
   "execution_count": 104,
   "metadata": {},
   "outputs": [],
   "source": [
    "property_agg3 = pd.merge(merged, hospital_SA2, on='SA2_CODE21', how='left')"
   ]
  },
  {
   "cell_type": "code",
   "execution_count": 105,
   "metadata": {},
   "outputs": [
    {
     "name": "stderr",
     "output_type": "stream",
     "text": [
      "/tmp/ipykernel_25170/3925431631.py:2: SettingWithCopyWarning: \n",
      "A value is trying to be set on a copy of a slice from a DataFrame\n",
      "\n",
      "See the caveats in the documentation: https://pandas.pydata.org/pandas-docs/stable/user_guide/indexing.html#returning-a-view-versus-a-copy\n",
      "  merged.rename(columns={'geometry': 'hospital_geometry'}, inplace=True)\n"
     ]
    }
   ],
   "source": [
    "merged = property_agg3[['postcode', 'SA2_CODE21','SA2_district','property_geometry', 'station_geometry', 'park_geometry', 'shop_geometry', 'geometry']]\n",
    "merged.rename(columns={'geometry': 'hospital_geometry'}, inplace=True)"
   ]
  },
  {
   "cell_type": "code",
   "execution_count": 106,
   "metadata": {},
   "outputs": [],
   "source": [
    "school_df = pd.read_csv(\"../data/external_SA2/complete_school_location.csv\", encoding='latin-1')\n",
    "school_df['coordinates'] = school_df.apply(lambda row: [row['Y'], row['X']], axis=1)"
   ]
  },
  {
   "cell_type": "code",
   "execution_count": 107,
   "metadata": {},
   "outputs": [],
   "source": [
    "# Your property data\n",
    "school_metadata = school_df\n",
    "\n",
    "# Convert the coordinates column to a suitable format (assuming it's a string like '[lat, lon]')\n",
    "#school_metadata['coordinates'] = school_metadata['coordinates'].apply(eval)\n",
    "\n",
    "# Create points and names from the property_metadata\n",
    "coords = [Point(xy[1], xy[0]) for xy in school_metadata['coordinates']]\n",
    "names = school_metadata['School_Type'].tolist()\n",
    "\n",
    "# Convert to GeoDataFrame\n",
    "school = gpd.GeoDataFrame({'name': names, 'geometry': coords})"
   ]
  },
  {
   "cell_type": "code",
   "execution_count": 108,
   "metadata": {},
   "outputs": [
    {
     "name": "stderr",
     "output_type": "stream",
     "text": [
      "/home/jqqian1/.local/lib/python3.10/site-packages/IPython/core/interactiveshell.py:3448: FutureWarning: The `op` parameter is deprecated and will be removed in a future release. Please use the `predicate` parameter instead.\n",
      "  if await self.run_code(code, result, async_=asy):\n",
      "/tmp/ipykernel_25170/1493813974.py:1: UserWarning: CRS mismatch between the CRS of left geometries and the CRS of right geometries.\n",
      "Use `to_crs()` to reproject one of the input geometries to match the CRS of the other.\n",
      "\n",
      "Left CRS: None\n",
      "Right CRS: EPSG:4326\n",
      "\n",
      "  school_SA2 = gpd.sjoin(school, victoria_gdf, how=\"inner\", op=\"within\")\n"
     ]
    }
   ],
   "source": [
    "school_SA2 = gpd.sjoin(school, victoria_gdf, how=\"inner\", op=\"within\")"
   ]
  },
  {
   "cell_type": "code",
   "execution_count": 109,
   "metadata": {},
   "outputs": [],
   "source": [
    "property_agg4 = pd.merge(merged, school_SA2, on='SA2_CODE21', how='left')"
   ]
  },
  {
   "cell_type": "code",
   "execution_count": 110,
   "metadata": {},
   "outputs": [
    {
     "name": "stderr",
     "output_type": "stream",
     "text": [
      "/tmp/ipykernel_25170/3682636011.py:2: SettingWithCopyWarning: \n",
      "A value is trying to be set on a copy of a slice from a DataFrame\n",
      "\n",
      "See the caveats in the documentation: https://pandas.pydata.org/pandas-docs/stable/user_guide/indexing.html#returning-a-view-versus-a-copy\n",
      "  merged.rename(columns={'geometry': 'school_geometry'}, inplace=True)\n"
     ]
    }
   ],
   "source": [
    "merged = property_agg4[['postcode', 'SA2_CODE21','SA2_district','property_geometry', 'station_geometry', 'park_geometry', 'shop_geometry','hospital_geometry', 'geometry']]\n",
    "merged.rename(columns={'geometry': 'school_geometry'}, inplace=True)"
   ]
  },
  {
   "cell_type": "code",
   "execution_count": 111,
   "metadata": {},
   "outputs": [
    {
     "name": "stderr",
     "output_type": "stream",
     "text": [
      "/home/jqqian1/.local/lib/python3.10/site-packages/IPython/core/interactiveshell.py:3448: FutureWarning: The `op` parameter is deprecated and will be removed in a future release. Please use the `predicate` parameter instead.\n",
      "  if await self.run_code(code, result, async_=asy):\n"
     ]
    }
   ],
   "source": [
    "supermarket = gpd.read_file('../data/external_SA2/Supermarket.geojson')\n",
    "supermarket_SA2 = gpd.sjoin(supermarket, victoria_gdf, how=\"inner\", op=\"within\")"
   ]
  },
  {
   "cell_type": "code",
   "execution_count": 112,
   "metadata": {},
   "outputs": [],
   "source": [
    "property_agg5 = pd.merge(merged, supermarket_SA2, on='SA2_CODE21', how='left')"
   ]
  },
  {
   "cell_type": "code",
   "execution_count": 113,
   "metadata": {},
   "outputs": [
    {
     "name": "stderr",
     "output_type": "stream",
     "text": [
      "/tmp/ipykernel_25170/4112485194.py:2: SettingWithCopyWarning: \n",
      "A value is trying to be set on a copy of a slice from a DataFrame\n",
      "\n",
      "See the caveats in the documentation: https://pandas.pydata.org/pandas-docs/stable/user_guide/indexing.html#returning-a-view-versus-a-copy\n",
      "  merged.rename(columns={'geometry': 'supermarket_geometry'}, inplace=True)\n"
     ]
    }
   ],
   "source": [
    "merged = property_agg5[['postcode', 'SA2_CODE21','SA2_district', 'property_geometry', 'station_geometry', 'park_geometry', 'shop_geometry','hospital_geometry','school_geometry', 'geometry']]\n",
    "merged.rename(columns={'geometry': 'supermarket_geometry'}, inplace=True)"
   ]
  },
  {
   "cell_type": "code",
   "execution_count": 118,
   "metadata": {},
   "outputs": [],
   "source": [
    "merged.to_csv(\"../data/raw/aggregated_locations.csv\")"
   ]
  }
 ],
 "metadata": {
  "kernelspec": {
   "display_name": "Python 3",
   "language": "python",
   "name": "python3"
  },
  "language_info": {
   "codemirror_mode": {
    "name": "ipython",
    "version": 3
   },
   "file_extension": ".py",
   "mimetype": "text/x-python",
   "name": "python",
   "nbconvert_exporter": "python",
   "pygments_lexer": "ipython3",
   "version": "3.10.6"
  },
  "orig_nbformat": 4
 },
 "nbformat": 4,
 "nbformat_minor": 2
}
