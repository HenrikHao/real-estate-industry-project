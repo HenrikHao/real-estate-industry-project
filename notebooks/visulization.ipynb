{
 "cells": [
  {
   "cell_type": "code",
   "execution_count": 1,
   "metadata": {},
   "outputs": [],
   "source": [
    "import folium\n",
    "import json\n",
    "\n",
    "# Load the data\n",
    "with open('../data/raw/example.json', 'r') as f:\n",
    "    property_metadata = json.load(f)\n",
    "\n",
    "# Create a base map\n",
    "m = folium.Map(location=[-37.8136, 144.9631], zoom_start=10)  # Coordinates for Melbourne\n",
    "\n",
    "# Add a marker for each property\n",
    "for url, data in property_metadata.items():\n",
    "    coords = data['coordinates']\n",
    "    folium.Marker(\n",
    "        location=coords,\n",
    "        popup=f\"<strong>{data['name']}</strong><br>{data['cost_text']}\",\n",
    "        tooltip=data['name'],\n",
    "        icon=folium.Icon(icon=\"home\")\n",
    "    ).add_to(m)\n",
    "\n",
    "# Save the map to an HTML file\n",
    "m.save(\"../plots/properties_map.html\")\n"
   ]
  }
 ],
 "metadata": {
  "kernelspec": {
   "display_name": "MAST30034",
   "language": "python",
   "name": "python3"
  },
  "language_info": {
   "codemirror_mode": {
    "name": "ipython",
    "version": 3
   },
   "file_extension": ".py",
   "mimetype": "text/x-python",
   "name": "python",
   "nbconvert_exporter": "python",
   "pygments_lexer": "ipython3",
   "version": "3.10.12"
  },
  "orig_nbformat": 4
 },
 "nbformat": 4,
 "nbformat_minor": 2
}
