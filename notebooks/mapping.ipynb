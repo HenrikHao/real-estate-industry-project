{
 "cells": [
  {
   "cell_type": "code",
   "execution_count": 1,
   "metadata": {},
   "outputs": [
    {
     "name": "stderr",
     "output_type": "stream",
     "text": [
      "/Users/henrik_hao/opt/anaconda3/envs/MAST30034/lib/python3.10/site-packages/geopandas/_compat.py:124: UserWarning: The Shapely GEOS version (3.11.1-CAPI-1.17.1) is incompatible with the GEOS version PyGEOS was compiled with (3.10.4-CAPI-1.16.2). Conversions between both will be slow.\n",
      "  warnings.warn(\n",
      "/var/folders/hl/0j63l0bd7n3ggf_3ylf9n8q80000gn/T/ipykernel_19420/472444752.py:3: DeprecationWarning: Shapely 2.0 is installed, but because PyGEOS is also installed, GeoPandas still uses PyGEOS by default. However, starting with version 0.14, the default will switch to Shapely. To force to use Shapely 2.0 now, you can either uninstall PyGEOS or set the environment variable USE_PYGEOS=0. You can do this before starting the Python process, or in your code before importing geopandas:\n",
      "\n",
      "import os\n",
      "os.environ['USE_PYGEOS'] = '0'\n",
      "import geopandas\n",
      "\n",
      "In the next release, GeoPandas will switch to using Shapely by default, even if PyGEOS is installed. If you only have PyGEOS installed to get speed-ups, this switch should be smooth. However, if you are using PyGEOS directly (calling PyGEOS functions on geometries from GeoPandas), this will then stop working and you are encouraged to migrate from PyGEOS to Shapely 2.0 (https://shapely.readthedocs.io/en/latest/migration_pygeos.html).\n",
      "  import geopandas as gpd\n"
     ]
    }
   ],
   "source": [
    "import pandas as pd\n",
    "import json\n",
    "import geopandas as gpd\n",
    "from shapely.geometry import Point\n",
    "import requests\n",
    "from collections import defaultdict"
   ]
  },
  {
   "cell_type": "code",
   "execution_count": 2,
   "metadata": {},
   "outputs": [],
   "source": [
    "# read into shape file\n",
    "sa2_sf = gpd.read_file(\"../data/shapefile/SA2/SA2_2021_AUST_GDA2020.shp\")\n",
    "sa2_sf['geometry'] = sa2_sf['geometry'].to_crs(\"+proj=longlat +ellps=WGS84 +datum=WGS84 +no_defs\")\n",
    "victoria_sa2 = sa2_sf[sa2_sf['STE_NAME21'] == 'Victoria']"
   ]
  },
  {
   "cell_type": "code",
   "execution_count": 3,
   "metadata": {},
   "outputs": [],
   "source": [
    "lga_sf = gpd.read_file(\"../data/shapefile/LGA/LGA_2021_AUST_GDA2020.shp\")\n",
    "lga_sf['geometry'] = lga_sf['geometry'].to_crs(\"+proj=longlat +ellps=WGS84 +datum=WGS84 +no_defs\")\n",
    "victoria_lga = lga_sf[lga_sf['STE_NAME21'] == 'Victoria']"
   ]
  },
  {
   "cell_type": "code",
   "execution_count": 4,
   "metadata": {},
   "outputs": [
    {
     "name": "stderr",
     "output_type": "stream",
     "text": [
      "/var/folders/hl/0j63l0bd7n3ggf_3ylf9n8q80000gn/T/ipykernel_19420/4084638560.py:13: UserWarning: Geometry is in a geographic CRS. Results from 'area' are likely incorrect. Use 'GeoSeries.to_crs()' to re-project geometries to a projected CRS before this operation.\n",
      "\n",
      "  areas = intersections.area\n"
     ]
    },
    {
     "name": "stdout",
     "output_type": "stream",
     "text": [
      "Warning: Missing geometry for SA2_CODE21: 297979799\n",
      "Warning: Missing geometry for SA2_CODE21: 299999499\n"
     ]
    }
   ],
   "source": [
    "mapping = []\n",
    "victoria_lga = victoria_lga.reset_index(drop=True)\n",
    "victoria_sa2 = victoria_sa2.reset_index(drop=True)\n",
    "\n",
    "# iterate over each sa2 district:\n",
    "for index, sa2_row in victoria_sa2.iterrows():\n",
    "    # Check if the geometry is not None\n",
    "    if sa2_row['geometry'] is not None:\n",
    "        # Find the intersection area between the current sa2 district and all lga districts\n",
    "        intersections = victoria_lga.intersection(sa2_row['geometry'])\n",
    "        \n",
    "        # Calculate the area of each intersection\n",
    "        areas = intersections.area\n",
    "        \n",
    "        # Find the index of the lga district with the maximum intersection area\n",
    "        max_area_index = areas.idxmax()\n",
    "        \n",
    "        # Check if max_area_index is not NaN and the maximum intersection area is greater than zero\n",
    "        if pd.notna(max_area_index) and areas[max_area_index] > 0:\n",
    "            # Append the mapping to the list\n",
    "            mapping.append({\n",
    "                'SA2_CODE21': sa2_row['SA2_CODE21'],\n",
    "                'SA2_NAME21': sa2_row['SA2_NAME21'],  # Extracting the sa2 name\n",
    "                'LGA_CODE21': victoria_lga.iloc[max_area_index]['LGA_CODE21'],\n",
    "                'LGA_NAME21': victoria_lga.iloc[max_area_index]['LGA_NAME21']  # Extracting the lga name\n",
    "            })\n",
    "        else:\n",
    "            # Handle the case where there's no valid intersection (e.g., log a warning or skip)\n",
    "            print(f\"Warning: No valid intersection found for SA2_CODE21: {sa2_row['SA2_CODE21']}\")\n",
    "    else:\n",
    "        print(f\"Warning: Missing geometry for SA2_CODE21: {sa2_row['SA2_CODE21']}\")\n",
    "\n",
    "# 3. Convert the Mapping List to a DataFrame\n",
    "mapping_df = pd.DataFrame(mapping)\n",
    "\n"
   ]
  },
  {
   "cell_type": "code",
   "execution_count": 6,
   "metadata": {},
   "outputs": [],
   "source": [
    "# Save the mapping csv\n",
    "mapping_df.to_csv(\"../data/raw/sa2_to_lga.csv\")"
   ]
  }
 ],
 "metadata": {
  "kernelspec": {
   "display_name": "MAST30034",
   "language": "python",
   "name": "python3"
  },
  "language_info": {
   "codemirror_mode": {
    "name": "ipython",
    "version": 3
   },
   "file_extension": ".py",
   "mimetype": "text/x-python",
   "name": "python",
   "nbconvert_exporter": "python",
   "pygments_lexer": "ipython3",
   "version": "3.10.12"
  },
  "orig_nbformat": 4
 },
 "nbformat": 4,
 "nbformat_minor": 2
}
